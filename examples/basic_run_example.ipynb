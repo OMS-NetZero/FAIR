{
 "cells": [
  {
   "cell_type": "markdown",
   "id": "0",
   "metadata": {},
   "source": [
    "# Basic example\n",
    "\n",
    "FaIR v2.2 is object-oriented and designed to be more flexible than its predecessors. This does mean that setting up a problem is different to before - gone are the days of 60 keyword arguments to `fair_scm` and we now use classes and functions with fewer arguments that in the long run should be easier to use. Of course, there is a learning curve, and will take some getting used to. This tutorial aims to walk through a simple problem using FaIR 2.2.\n",
    "\n",
    "The structure of FaIR 2.2 centres around the `FAIR` class, which contains all information about the scenario(s), the forcer(s) we want to investigate, and any configurations specific to each species and the response of the climate.\n",
    "\n",
    "## Note\n",
    "\n",
    "The code in this introductory block is explanatory and if you try to copy and paste it it you'll get errors. The code in this file is self-contained below the heading \"1. Create FaIR instance\" below. Alternatively, check out the repository from GitHub and run this example notebook in `jupyter`. Details [here](https://docs.fairmodel.net/en/latest/install.html).\n",
    "\n",
    "## Some basics\n",
    "\n",
    "A run is initialised as follows:\n",
    "\n",
    "```\n",
    "f = FAIR()\n",
    "```\n",
    "\n",
    "To this we need to add some information about the time horizon of our model, forcers we want to run with, their configuration (and the configuration of the climate), and optionally some model control options:\n",
    "\n",
    "```\n",
    "f.define_time(2000, 2050, 1)\n",
    "f.define_scenarios(['abrupt', 'ramp'])\n",
    "f.define_configs(['high', 'central', 'low'])\n",
    "f.define_species(species, properties)\n",
    "f.ghg_method='Myhre1998'\n",
    "```\n",
    "\n",
    "We generate some variables: emissions, concentrations, forcing, temperature etc.:\n",
    "```\n",
    "f.allocate()\n",
    "```\n",
    "\n",
    "which creates `xarray` DataArrays that we can fill in:\n",
    "```\n",
    "fill(f.emissions, 40, scenario='abrupt', specie='CO2 FFI')\n",
    "...\n",
    "```\n",
    "\n",
    "Finally, the model is run with\n",
    "\n",
    "```\n",
    "f.run()\n",
    "```\n",
    "\n",
    "Results are stored within the `FAIR` instance as `xarray` DataArrays or Dataset, and can be obtained such as\n",
    "\n",
    "```\n",
    "print(fair.temperature)\n",
    "```\n",
    "\n",
    "Multiple `scenarios` and `configs` can be supplied in a `FAIR` instance, and due to internal parallelisation is the fastest way to run the model (100 ensemble members per second for 1750-2100 on my Mac for an emissions driven run). The total number of scenarios that will be run is the product of `scenarios` and `configs`. For example we might want to run three emissions `scenarios` -- let's say SSP1-2.6, SSP2-4.5 and SSP3-7.0 -- using climate calibrations (`configs`) from the UKESM, GFDL, MIROC and NorESM climate models. This would give us a total of 12 ensemble members in total which are run in parallel.\n",
    "\n",
    "The most difficult part to learning FaIR 2.2 is correctly defining the `scenarios` and `configs`. As in previous versions of FaIR, there is a lot of flexibility, and simplifying the calling interface (`fair_scm` in v1.x) has come at the cost of switching this around to the `FAIR` class, and things have to be defined in the right order usually.\n",
    "\n",
    "## Recommended order for setting up a problem\n",
    "\n",
    "In this tutorial the recommended order in which to define a problem is set out step by step, and is as follows:\n",
    "\n",
    "1. Create the `FAIR` instance, inititalised with run control options.\n",
    "2. Define the time horizon of the problem with `FAIR.define_time()`\n",
    "3. Define the scenarios to be run (e.g. SSPs, IAM emissions scenarios, or anything you want) with `FAIR.define_scenarios()`.\n",
    "4. Define the configurations to be run with `FAIR.define_configs()`. A configuration (`config`) is a set of parameters that describe climate response and species response parameters. For example you might have a `config` with high climate sensitivity and strong aerosol forcing, and one with low climate sensitivity and weak aerosol forcing.\n",
    "5. Define which `specie`s will be included in the problem, and their properties including the run mode (e.g. emissions-driven, concentration driven) with `FAIR.define_species()`.\n",
    "6. Optionally, modify run control options.\n",
    "7. Create input and output `DataArrays` with `FAIR.allocate()`.\n",
    "8. Fill in the DataArrays (e.g. emissions), climate configs, and species configs, by either working directly with the `xarray` API, or using FaIR-packaged convenience functions like `fill` and `initialise`.\n",
    "9. Run: `FAIR.run()`.\n",
    "10. Analyse results by accessing the DataArrays that are attributes of `FAIR`."
   ]
  },
  {
   "cell_type": "markdown",
   "id": "1",
   "metadata": {},
   "source": [
    "### 1. Create FaIR instance\n",
    "\n",
    "We'll call our instance `f`: it's nice and short and the `fair` name is reserved for the module."
   ]
  },
  {
   "cell_type": "code",
   "execution_count": null,
   "id": "2",
   "metadata": {},
   "outputs": [],
   "source": [
    "from fair import FAIR"
   ]
  },
  {
   "cell_type": "code",
   "execution_count": null,
   "id": "3",
   "metadata": {},
   "outputs": [],
   "source": [
    "f = FAIR()"
   ]
  },
  {
   "cell_type": "markdown",
   "id": "4",
   "metadata": {},
   "source": [
    "### 2. Define time horizon\n",
    "\n",
    "There are two different time indicators in FaIR: the `timebound` and the `timepoint`. `timebound`s, as the name suggests, are at the edges of each time step; they can be thought of as instantaneous snapshots. `timepoint`s are what happens between time bounds and are rates or integral quantities. \n",
    "\n",
    "The main thing to remember is that only `emissions` are defined on `timepoint`s and everything else is defined on `timebound`s, and when we specify the time horizon in our model, we are defining the `timebound`s of the problem.\n",
    "\n",
    "Secondly, the number of `timebound`s is one more than the number of `timepoint`s, as the start and end points are included in the `timebound`s."
   ]
  },
  {
   "cell_type": "code",
   "execution_count": null,
   "id": "5",
   "metadata": {},
   "outputs": [],
   "source": [
    "# create time horizon with bounds of 2000 and 2050, at 1-year intervals\n",
    "f.define_time(2000, 2050, 1)\n",
    "print(f.timebounds)\n",
    "print(f.timepoints)"
   ]
  },
  {
   "cell_type": "markdown",
   "id": "6",
   "metadata": {},
   "source": [
    "### 3. Define scenarios\n",
    "\n",
    "The scenarios are a list of strings that label the scenario dimension of the model, helping you keep track of inputs and outputs.\n",
    "\n",
    "In this example problem we will create two scenarios: an \"abrupt\" scenario (where emissions or concentrations change instantly) and a \"ramp\" scenario where they change gradually."
   ]
  },
  {
   "cell_type": "code",
   "execution_count": null,
   "id": "7",
   "metadata": {},
   "outputs": [],
   "source": [
    "# Define two scenarios\n",
    "f.define_scenarios([\"abrupt\", \"ramp\"])\n",
    "f.scenarios"
   ]
  },
  {
   "cell_type": "markdown",
   "id": "8",
   "metadata": {},
   "source": [
    "### 4. Define configs\n",
    "\n",
    "Similarly to the scenarios, the configs are a labelling tool. Each config has associated climate- and species-related settings, which we will come to later. \n",
    "\n",
    "We'll use three config sets, crudely corresponding to high, medium and low climate sensitivity."
   ]
  },
  {
   "cell_type": "code",
   "execution_count": null,
   "id": "9",
   "metadata": {},
   "outputs": [],
   "source": [
    "# Define three scenarios\n",
    "f.define_configs([\"high\", \"central\", \"low\"])\n",
    "f.configs"
   ]
  },
  {
   "cell_type": "markdown",
   "id": "10",
   "metadata": {},
   "source": [
    "### 5. Define species\n",
    "\n",
    "This defines the forcers -- anthropogenic or natural -- that are present in your scenario. A `species` could be something directly emitted like CO2 from fossil fuels, or it could be a category where forcing has to be calculate from precursor emissions like aerosol-cloud interactions.\n",
    "\n",
    "Each `specie` is assigned a name that is used to distinguish it from other species. You can call the species what you like within the model as long as you are consistent. We also pass a dictionary of `properties` that defines how each specie behaves in the model.\n",
    "\n",
    "In this example we'll start off running a scenario with CO2 from fossil fuels and industry, CO2 from AFOLU, CH4, N2O, and Sulfur (note you don't need the full 40 species used in v1.1-1.6, and some additional default ones are included). From these inputs we also want to determine forcing from aerosol-radiation and aerosol-cloud interactions, as well as CO2, CH4 and N2O.\n",
    "\n",
    "To highlight some of the functionality we'll run CO2 and Sulfur emissions-driven, and CH4 and N2O concentration-driven. (This is akin to an `esm-ssp585` kind of run from CMIP6, though with fewer species). We'll use totally fake data here - this is not intended to represent a real-world scenario but just to highlight how FaIR works. Full simulations may have 50 or more species included and the `properties` dictionary can get quite large, so it can be beneficial to edit it in a CSV and load it in.\n",
    "\n",
    "In total, we have 8 species in this model. We want to run\n",
    "\n",
    "1. CO2 fossil and industry\n",
    "2. CO2 AFOLU\n",
    "3. Sulfur\n",
    "\n",
    "with specified emissions. \n",
    "\n",
    "We want to run\n",
    "\n",
    "4. CH4\n",
    "5. N2O\n",
    "\n",
    "with specified concentrations. We also want to calculate forcing from CO2, so we need to declare the CO2 as a greenhouse gas in addition to its emitted components:\n",
    "\n",
    "6. CO2\n",
    "\n",
    "and we want to calculate forcing from aerosol radiation and aerosol cloud interactions\n",
    "\n",
    "7. ERFari\n",
    "8. ERFaci"
   ]
  },
  {
   "cell_type": "code",
   "execution_count": null,
   "id": "11",
   "metadata": {},
   "outputs": [],
   "source": [
    "species = ['CO2 fossil emissions', 'CO2 AFOLU emissions', 'Sulfur', 'CH4', 'N2O', 'CO2', 'ERFari', 'ERFaci']"
   ]
  },
  {
   "cell_type": "markdown",
   "id": "12",
   "metadata": {},
   "source": [
    "In the `properties` dictionary, the keys must match the `species` that you have declared. I should do another tutorial on changing some of the properties; but \n",
    "\n",
    "- `type` defines the species type such as CO2, an aerosol precursor, or volcanic forcing; there's around 20 pre-defined types in FaIR. Some can only be defined once in a run, some can have multiple instances (e.g. `f-gas`). See `fair.structure.species` for a list.\n",
    "- `input_mode`: how the model should be driven with this `specie`. Valid values are `emissions`, `concentration`, `forcing` or `calculated` and not all options are valid for all `type`s (e.g. running solar forcing with concentrations). `calculated` means that the emissions/concentration/forcing of this specie depends on others, for example aerosol radiative forcing needs precursors to be emitted.\n",
    "- `greenhouse_gas`: True if the `specie` is a greenhouse gas, which means that an associated `concentration` can be calculated (along with some other species-specific behaviours). Note that CO2 emissions from fossil fuels or from AFOLU are not treated as greenhouse gases.\n",
    "- `aerosol_chemistry_from_emissions`: Some routines such as aerosols, methane lifetime, or ozone forcing, relate to emissions of short-lived climate forcers. If this `specie` is one of these, this should be set to True.\n",
    "- `aerosol_chemistry_from_concentration`: As above, but if the production of ozone, aerosol etc. depends on the concentration of a greenhouse gas."
   ]
  },
  {
   "cell_type": "code",
   "execution_count": null,
   "id": "13",
   "metadata": {},
   "outputs": [],
   "source": [
    "properties = {\n",
    "    'CO2 fossil emissions': {\n",
    "        'type': 'co2 ffi',\n",
    "        'input_mode': 'emissions',\n",
    "        'greenhouse_gas': False,  # it doesn't behave as a GHG itself in the model, but as a precursor\n",
    "        'aerosol_chemistry_from_emissions': False,\n",
    "        'aerosol_chemistry_from_concentration': False,\n",
    "    },\n",
    "    'CO2 AFOLU emissions': {\n",
    "        'type': 'co2 afolu',\n",
    "        'input_mode': 'emissions',\n",
    "        'greenhouse_gas': False,  # it doesn't behave as a GHG itself in the model, but as a precursor\n",
    "        'aerosol_chemistry_from_emissions': False,\n",
    "        'aerosol_chemistry_from_concentration': False,\n",
    "    },\n",
    "    'CO2': {\n",
    "        'type': 'co2',\n",
    "        'input_mode': 'calculated',\n",
    "        'greenhouse_gas': True,\n",
    "        'aerosol_chemistry_from_emissions': False,\n",
    "        'aerosol_chemistry_from_concentration': False,\n",
    "    },\n",
    "    'CH4': {\n",
    "        'type': 'ch4',\n",
    "        'input_mode': 'concentration',\n",
    "        'greenhouse_gas': True,\n",
    "        'aerosol_chemistry_from_emissions': False,\n",
    "        'aerosol_chemistry_from_concentration': True, # we treat methane as a reactive gas\n",
    "    },\n",
    "    'N2O': {\n",
    "        'type': 'n2o',\n",
    "        'input_mode': 'concentration',\n",
    "        'greenhouse_gas': True,\n",
    "        'aerosol_chemistry_from_emissions': False,\n",
    "        'aerosol_chemistry_from_concentration': True, # we treat nitrous oxide as a reactive gas\n",
    "    },\n",
    "    'Sulfur': {\n",
    "        'type': 'sulfur',\n",
    "        'input_mode': 'emissions',\n",
    "        'greenhouse_gas': False,\n",
    "        'aerosol_chemistry_from_emissions': True,\n",
    "        'aerosol_chemistry_from_concentration': False,\n",
    "    },\n",
    "    'ERFari': {\n",
    "        'type': 'ari',\n",
    "        'input_mode': 'calculated',\n",
    "        'greenhouse_gas': False,\n",
    "        'aerosol_chemistry_from_emissions': False,\n",
    "        'aerosol_chemistry_from_concentration': False,\n",
    "    },\n",
    "    'ERFaci': {\n",
    "        'type': 'aci',\n",
    "        'input_mode': 'calculated',\n",
    "        'greenhouse_gas': False,\n",
    "        'aerosol_chemistry_from_emissions': False,\n",
    "        'aerosol_chemistry_from_concentration': False,\n",
    "    }\n",
    "}"
   ]
  },
  {
   "cell_type": "code",
   "execution_count": null,
   "id": "14",
   "metadata": {},
   "outputs": [],
   "source": [
    "f.define_species(species, properties)"
   ]
  },
  {
   "cell_type": "markdown",
   "id": "15",
   "metadata": {},
   "source": [
    "### 6. Modify run options\n",
    "\n",
    "When we initialise the FAIR class, a number of options are given as defaults.\n",
    "\n",
    "Let's say we want to change the greenhouse gas forcing treatment from Meinshausen et al. 2020 to Myhre et al. 1998. While this could have been done when initialising the class, we can also do it by setting the appropriate attribute."
   ]
  },
  {
   "cell_type": "code",
   "execution_count": null,
   "id": "16",
   "metadata": {},
   "outputs": [],
   "source": [
    "help(f)"
   ]
  },
  {
   "cell_type": "code",
   "execution_count": null,
   "id": "17",
   "metadata": {},
   "outputs": [],
   "source": [
    "f.ghg_method"
   ]
  },
  {
   "cell_type": "code",
   "execution_count": null,
   "id": "18",
   "metadata": {},
   "outputs": [],
   "source": [
    "f.aci_method='myhre1998'"
   ]
  },
  {
   "cell_type": "code",
   "execution_count": null,
   "id": "19",
   "metadata": {},
   "outputs": [],
   "source": [
    "f.aci_method"
   ]
  },
  {
   "cell_type": "markdown",
   "id": "20",
   "metadata": {},
   "source": [
    "### 7. Create input and output data\n",
    "\n",
    "Steps 2--5 above dimensioned our problem; now, we want to actually create some data to put into it. \n",
    "\n",
    "First we allocate the data arrays with"
   ]
  },
  {
   "cell_type": "code",
   "execution_count": null,
   "id": "21",
   "metadata": {},
   "outputs": [],
   "source": [
    "f.allocate()"
   ]
  },
  {
   "cell_type": "markdown",
   "id": "22",
   "metadata": {},
   "source": [
    "This has created our arrays with the correct dimensions as attributes of the `FAIR` class:"
   ]
  },
  {
   "cell_type": "code",
   "execution_count": null,
   "id": "23",
   "metadata": {},
   "outputs": [],
   "source": [
    "f.emissions"
   ]
  },
  {
   "cell_type": "code",
   "execution_count": null,
   "id": "24",
   "metadata": {},
   "outputs": [],
   "source": [
    "f.temperature"
   ]
  },
  {
   "cell_type": "markdown",
   "id": "25",
   "metadata": {},
   "source": [
    "### 8. Fill in the data\n",
    "\n",
    "The data created is nothing more special than `xarray` DataArrays, and using `xarray` methods we can allocate values to the emissions:"
   ]
  },
  {
   "cell_type": "code",
   "execution_count": null,
   "id": "26",
   "metadata": {},
   "outputs": [],
   "source": [
    "f.emissions.loc[(dict(specie=\"CO2 fossil emissions\", scenario=\"abrupt\"))] = 38"
   ]
  },
  {
   "cell_type": "code",
   "execution_count": null,
   "id": "27",
   "metadata": {},
   "outputs": [],
   "source": [
    "f.emissions[:,0,0,0]"
   ]
  },
  {
   "cell_type": "markdown",
   "id": "28",
   "metadata": {},
   "source": [
    "I think this method is a tiny bit clunky with `loc` and `dict` so two helper functions have been created; `fill` and `initialise`. It's personal preference if you use them or not, the only thing that matters is that the data is there."
   ]
  },
  {
   "cell_type": "code",
   "execution_count": null,
   "id": "29",
   "metadata": {},
   "outputs": [],
   "source": [
    "from fair.interface import fill, initialise"
   ]
  },
  {
   "cell_type": "markdown",
   "id": "30",
   "metadata": {},
   "source": [
    "#### 8a. fill emissions, concentrations ...\n",
    "\n",
    "Remember that some species in our problem are emissions driven, some are concentration driven, and you might have species which are forcing driven (though not in this problem).\n",
    "\n",
    "You will need to populate the datasets to ensure that all of the required species are there, in their specified driving mode."
   ]
  },
  {
   "cell_type": "code",
   "execution_count": null,
   "id": "31",
   "metadata": {},
   "outputs": [],
   "source": [
    "import numpy as np"
   ]
  },
  {
   "cell_type": "code",
   "execution_count": null,
   "id": "32",
   "metadata": {},
   "outputs": [],
   "source": [
    "fill(f.emissions, 38, scenario='abrupt', specie='CO2 fossil emissions')\n",
    "fill(f.emissions, 3, scenario='abrupt', specie='CO2 AFOLU emissions')\n",
    "fill(f.emissions, 100, scenario='abrupt', specie='Sulfur')\n",
    "fill(f.concentration, 1800, scenario='abrupt', specie='CH4')\n",
    "fill(f.concentration, 325, scenario='abrupt', specie='N2O')\n",
    "\n",
    "for config in f.configs:\n",
    "    fill(f.emissions, np.linspace(0, 38, 50), scenario='ramp', config=config, specie='CO2 fossil emissions')\n",
    "    fill(f.emissions, np.linspace(0, 3, 50), scenario='ramp', config=config, specie='CO2 AFOLU emissions')\n",
    "    fill(f.emissions, np.linspace(2.2, 100, 50), scenario='ramp', config=config, specie='Sulfur')\n",
    "    fill(f.concentration, np.linspace(729, 1800, 51), scenario='ramp', config=config, specie='CH4')\n",
    "    fill(f.concentration, np.linspace(270, 325, 51), scenario='ramp', config=config, specie='N2O')"
   ]
  },
  {
   "cell_type": "markdown",
   "id": "33",
   "metadata": {},
   "source": [
    "We also need approriate initial conditions. If you are seeing a lot of unexpected NaNs in your results, it could be that the first timestep was never defined.\n",
    "\n",
    "Using non-zero values for forcing, temperature, airborne emissions etc. such as from the end of a previous run may allow for restart runs in the future."
   ]
  },
  {
   "cell_type": "code",
   "execution_count": null,
   "id": "34",
   "metadata": {},
   "outputs": [],
   "source": [
    "# Define first timestep\n",
    "initialise(f.concentration, 278.3, specie='CO2')\n",
    "initialise(f.forcing, 0)\n",
    "initialise(f.temperature, 0)\n",
    "initialise(f.cumulative_emissions, 0)\n",
    "initialise(f.airborne_emissions, 0)"
   ]
  },
  {
   "cell_type": "markdown",
   "id": "35",
   "metadata": {},
   "source": [
    "#### 8b. Fill in `climate_configs`\n",
    "\n",
    "This defines how the model responds to a forcing: the default behaviour is the three-layer energy balance model as described in Cummins et al. (2020). The number of layers can be changed in `run_control`.\n",
    "\n",
    "`climate_configs` is an `xarray` Dataset."
   ]
  },
  {
   "cell_type": "code",
   "execution_count": null,
   "id": "36",
   "metadata": {},
   "outputs": [],
   "source": [
    "f.climate_configs"
   ]
  },
  {
   "cell_type": "code",
   "execution_count": null,
   "id": "37",
   "metadata": {},
   "outputs": [],
   "source": [
    "fill(f.climate_configs[\"ocean_heat_transfer\"], [0.6, 1.3, 1.0], config='high')\n",
    "fill(f.climate_configs[\"ocean_heat_capacity\"], [5, 15, 80], config='high')\n",
    "fill(f.climate_configs[\"deep_ocean_efficacy\"], 1.29, config='high')\n",
    "\n",
    "fill(f.climate_configs[\"ocean_heat_transfer\"], [1.1, 1.6, 0.9], config='central')\n",
    "fill(f.climate_configs[\"ocean_heat_capacity\"], [8, 14, 100], config='central')\n",
    "fill(f.climate_configs[\"deep_ocean_efficacy\"], 1.1, config='central')\n",
    "\n",
    "fill(f.climate_configs[\"ocean_heat_transfer\"], [1.7, 2.0, 1.1], config='low')\n",
    "fill(f.climate_configs[\"ocean_heat_capacity\"], [6, 11, 75], config='low')\n",
    "fill(f.climate_configs[\"deep_ocean_efficacy\"], 0.8, config='low')"
   ]
  },
  {
   "cell_type": "markdown",
   "id": "38",
   "metadata": {},
   "source": [
    "#### 8c. Fill in `species_configs`\n",
    "\n",
    "This is again an `xarray` Dataset, with lots of options. Most of these will be made loadable defaults, and indeed you can load up defaults with\n",
    "\n",
    "`FAIR.fill_species_configs()`\n",
    "\n",
    "For this example we'll show the manual editing of the species configs, which you will probably want to do anyway in a full run (e.g. to change carbon cycle sensitivities)."
   ]
  },
  {
   "cell_type": "code",
   "execution_count": null,
   "id": "39",
   "metadata": {},
   "outputs": [],
   "source": [
    "f.species_configs"
   ]
  },
  {
   "cell_type": "markdown",
   "id": "40",
   "metadata": {},
   "source": [
    "##### Greenhouse gas state-dependence\n",
    "\n",
    "`iirf_0` is the baseline time-integrated airborne fraction (usually over 100 years). It can be calculated from the variables above, but sometimes we might want to change these values."
   ]
  },
  {
   "cell_type": "code",
   "execution_count": null,
   "id": "41",
   "metadata": {},
   "outputs": [],
   "source": [
    "fill(f.species_configs[\"partition_fraction\"], [0.2173, 0.2240, 0.2824, 0.2763], specie=\"CO2\")\n",
    "\n",
    "non_co2_ghgs = [\"CH4\", \"N2O\"]\n",
    "for gas in non_co2_ghgs:\n",
    "    fill(f.species_configs[\"partition_fraction\"], [1, 0, 0, 0], specie=gas)\n",
    "\n",
    "fill(f.species_configs[\"unperturbed_lifetime\"], [1e9, 394.4, 36.54, 4.304], specie=\"CO2\")\n",
    "fill(f.species_configs[\"unperturbed_lifetime\"], 8.25, specie=\"CH4\")\n",
    "fill(f.species_configs[\"unperturbed_lifetime\"], 109, specie=\"N2O\")\n",
    "    \n",
    "fill(f.species_configs[\"baseline_concentration\"], 278.3, specie=\"CO2\")\n",
    "fill(f.species_configs[\"baseline_concentration\"], 729, specie=\"CH4\")\n",
    "fill(f.species_configs[\"baseline_concentration\"], 270.3, specie=\"N2O\")\n",
    "\n",
    "fill(f.species_configs[\"forcing_reference_concentration\"], 278.3, specie=\"CO2\")\n",
    "fill(f.species_configs[\"forcing_reference_concentration\"], 729, specie=\"CH4\")\n",
    "fill(f.species_configs[\"forcing_reference_concentration\"], 270.3, specie=\"N2O\")\n",
    "\n",
    "fill(f.species_configs[\"molecular_weight\"], 44.009, specie=\"CO2\")\n",
    "fill(f.species_configs[\"molecular_weight\"], 16.043, specie=\"CH4\")\n",
    "fill(f.species_configs[\"molecular_weight\"], 44.013, specie=\"N2O\")\n",
    "\n",
    "fill(f.species_configs[\"greenhouse_gas_radiative_efficiency\"], 1.3344985680386619e-05, specie='CO2')\n",
    "fill(f.species_configs[\"greenhouse_gas_radiative_efficiency\"], 0.00038864402860869495, specie='CH4')\n",
    "fill(f.species_configs[\"greenhouse_gas_radiative_efficiency\"], 0.00319550741640458, specie='N2O')"
   ]
  },
  {
   "cell_type": "code",
   "execution_count": null,
   "id": "42",
   "metadata": {},
   "outputs": [],
   "source": [
    "# some greenhouse gas parameters can be automatically calculated from lifetime, molecular weight and partition fraction:\n",
    "f.calculate_iirf0()\n",
    "f.calculate_g()\n",
    "f.calculate_concentration_per_emission()"
   ]
  },
  {
   "cell_type": "code",
   "execution_count": null,
   "id": "43",
   "metadata": {},
   "outputs": [],
   "source": [
    "# but we still want to override sometimes, and because it's just an xarray, we can:\n",
    "fill(f.species_configs[\"iirf_0\"], 29, specie='CO2')"
   ]
  },
  {
   "cell_type": "code",
   "execution_count": null,
   "id": "44",
   "metadata": {},
   "outputs": [],
   "source": [
    "# Now we define sensitivities of airborne fraction for each GHG; I'll do this quickly\n",
    "fill(f.species_configs[\"iirf_airborne\"], [0.000819*2, 0.000819, 0], specie='CO2')\n",
    "fill(f.species_configs[\"iirf_uptake\"], [0.00846*2, 0.00846, 0], specie='CO2')\n",
    "fill(f.species_configs[\"iirf_temperature\"], [8, 4, 0], specie='CO2')\n",
    "\n",
    "fill(f.species_configs['iirf_airborne'], 0.00032, specie='CH4')\n",
    "fill(f.species_configs['iirf_airborne'], -0.0065, specie='N2O')\n",
    "\n",
    "fill(f.species_configs['iirf_uptake'], 0, specie='N2O')\n",
    "fill(f.species_configs['iirf_uptake'], 0, specie='CH4')\n",
    "\n",
    "fill(f.species_configs['iirf_temperature'], -0.3, specie='CH4')\n",
    "fill(f.species_configs['iirf_temperature'], 0, specie='N2O')"
   ]
  },
  {
   "cell_type": "markdown",
   "id": "45",
   "metadata": {},
   "source": [
    "##### Aerosol emissions or concentrations to forcing\n",
    "\n",
    "Note, both here and with the GHG parameters above, we don't have to change parameters away from NaN if they are not relevant, e.g. Sulfur is not a GHG so we don't care about `iirf_0`, and CO2 is not an aerosol precursor so we don't care about `erfari_radiative_efficiency`."
   ]
  },
  {
   "cell_type": "code",
   "execution_count": null,
   "id": "46",
   "metadata": {},
   "outputs": [],
   "source": [
    "fill(f.species_configs[\"erfari_radiative_efficiency\"], -0.0036167830509091486, specie='Sulfur') # W m-2 MtSO2-1 yr\n",
    "fill(f.species_configs[\"erfari_radiative_efficiency\"], -0.002653/1023.2219696044921, specie='CH4') # W m-2 ppb-1\n",
    "fill(f.species_configs[\"erfari_radiative_efficiency\"], -0.00209/53.96694437662762, specie='N2O') # W m-2 ppb-1\n",
    "\n",
    "fill(f.species_configs[\"aci_scale\"], -2.09841432)\n",
    "fill(f.species_configs[\"aci_shape\"], 1/260.34644166, specie='Sulfur')"
   ]
  },
  {
   "cell_type": "markdown",
   "id": "47",
   "metadata": {},
   "source": [
    "### 9. run FaIR"
   ]
  },
  {
   "cell_type": "code",
   "execution_count": null,
   "id": "48",
   "metadata": {},
   "outputs": [],
   "source": [
    "f.run()"
   ]
  },
  {
   "cell_type": "markdown",
   "id": "49",
   "metadata": {},
   "source": [
    "### 10. plot results"
   ]
  },
  {
   "cell_type": "code",
   "execution_count": null,
   "id": "50",
   "metadata": {},
   "outputs": [],
   "source": [
    "import matplotlib.pyplot as pl"
   ]
  },
  {
   "cell_type": "code",
   "execution_count": null,
   "id": "51",
   "metadata": {},
   "outputs": [],
   "source": [
    "pl.plot(f.timebounds, f.temperature.loc[dict(scenario='ramp', layer=0)], label=f.configs)\n",
    "pl.title('Ramp scenario: temperature')\n",
    "pl.xlabel('year')\n",
    "pl.ylabel('Temperature anomaly (K)')\n",
    "pl.legend()"
   ]
  },
  {
   "cell_type": "code",
   "execution_count": null,
   "id": "52",
   "metadata": {},
   "outputs": [],
   "source": [
    "pl.plot(f.timebounds, f.concentration.loc[dict(scenario='ramp', specie='CO2')], label=f.configs)\n",
    "pl.title('Ramp scenario: CO2')\n",
    "pl.xlabel('year')\n",
    "pl.ylabel('CO2 (ppm)')\n",
    "pl.legend()"
   ]
  },
  {
   "cell_type": "code",
   "execution_count": null,
   "id": "53",
   "metadata": {},
   "outputs": [],
   "source": [
    "pl.plot(f.timebounds, f.forcing.loc[dict(scenario='ramp', specie='ERFaci')], label=f.configs)\n",
    "pl.title('Ramp scenario: forcing')\n",
    "pl.xlabel('year')\n",
    "pl.ylabel('ERF from aerosol-cloud interactions (W m$^{-2}$)')\n",
    "pl.legend()"
   ]
  },
  {
   "cell_type": "code",
   "execution_count": null,
   "id": "54",
   "metadata": {},
   "outputs": [],
   "source": [
    "pl.plot(f.timebounds, f.forcing_sum.loc[dict(scenario='ramp')], label=f.configs)\n",
    "pl.title('Ramp scenario: forcing')\n",
    "pl.xlabel('year')\n",
    "pl.ylabel('Total ERF (W m$^{-2}$)')\n",
    "pl.legend()"
   ]
  },
  {
   "cell_type": "code",
   "execution_count": null,
   "id": "55",
   "metadata": {},
   "outputs": [],
   "source": [
    "pl.plot(f.timebounds, f.temperature.loc[dict(scenario='abrupt', layer=0)], label=f.configs)\n",
    "pl.title('Abrupt scenario: temperature')\n",
    "pl.xlabel('year')\n",
    "pl.ylabel('Temperature anomaly (K)')\n",
    "pl.legend()"
   ]
  },
  {
   "cell_type": "code",
   "execution_count": null,
   "id": "56",
   "metadata": {},
   "outputs": [],
   "source": [
    "pl.plot(f.timebounds, f.forcing_sum.loc[dict(scenario='abrupt')], label=f.configs)\n",
    "pl.title('Abrupt scenario: forcing')\n",
    "pl.xlabel('year')\n",
    "pl.ylabel('Total ERF (W m$^{-2}$)')\n",
    "pl.legend()"
   ]
  },
  {
   "cell_type": "code",
   "execution_count": null,
   "id": "57",
   "metadata": {},
   "outputs": [],
   "source": [
    "pl.plot(f.timebounds, f.concentration.loc[dict(scenario='abrupt', specie='CO2')], label=f.configs)\n",
    "pl.title('Abrupt scenario: CO2')\n",
    "pl.xlabel('year')\n",
    "pl.ylabel('CO2 (ppm)')\n",
    "pl.legend()"
   ]
  },
  {
   "cell_type": "code",
   "execution_count": null,
   "id": "58",
   "metadata": {},
   "outputs": [],
   "source": [
    "f.species_configs['g0'].loc[dict(specie='CO2')]"
   ]
  },
  {
   "cell_type": "code",
   "execution_count": null,
   "id": "59",
   "metadata": {},
   "outputs": [],
   "source": [
    "f.forcing[-1, :, 1, :]"
   ]
  },
  {
   "cell_type": "code",
   "execution_count": null,
   "id": "60",
   "metadata": {},
   "outputs": [],
   "source": []
  }
 ],
 "metadata": {
  "kernelspec": {
   "display_name": "Python 3 (ipykernel)",
   "language": "python",
   "name": "python3"
  },
  "language_info": {
   "codemirror_mode": {
    "name": "ipython",
    "version": 3
   },
   "file_extension": ".py",
   "mimetype": "text/x-python",
   "name": "python",
   "nbconvert_exporter": "python",
   "pygments_lexer": "ipython3",
   "version": "3.11.7"
  }
 },
 "nbformat": 4,
 "nbformat_minor": 5
}
