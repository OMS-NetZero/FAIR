{
 "cells": [
  {
   "cell_type": "markdown",
   "id": "404f9173",
   "metadata": {},
   "source": [
    "# SSP emissions runs using CMIP6 calibrations: monthly timestep\n",
    "\n",
    "This is based on `cmip6_ssp_emissions_run`. Refer to this example for the full steps; here I take a few shortcuts.\n",
    "\n",
    "The stochastic response appears to be too small using the calibrated 4xCO2 values for sigma_eta and sigma_xi. No rescaling of these values is done in the energy balance code, though in the constrution of the energy balance model diving the sigmas by the square root of the timestep seems to approximately reproduce the right level of variability. I do this here."
   ]
  },
  {
   "cell_type": "code",
   "execution_count": null,
   "id": "9dd82491",
   "metadata": {},
   "outputs": [],
   "source": [
    "import numpy as np\n",
    "import matplotlib.pyplot as pl\n",
    "import pandas as pd\n",
    "\n",
    "from fair import FAIR\n",
    "from fair.io import read_properties\n",
    "from fair.interface import fill, initialise\n",
    "from fair.earth_params import seconds_per_year"
   ]
  },
  {
   "cell_type": "markdown",
   "id": "4df5121d",
   "metadata": {},
   "source": [
    "## Set up problem\n",
    "\n",
    "Create a world running from 1750 to 2100, at monthly intervals"
   ]
  },
  {
   "cell_type": "code",
   "execution_count": null,
   "id": "b97e45d1",
   "metadata": {},
   "outputs": [],
   "source": [
    "f = FAIR(ch4_method='thornhill2021')"
   ]
  },
  {
   "cell_type": "code",
   "execution_count": null,
   "id": "2faf20eb",
   "metadata": {},
   "outputs": [],
   "source": [
    "f.define_time(1750, 2100, 1/12)"
   ]
  },
  {
   "cell_type": "code",
   "execution_count": null,
   "id": "14edd98c",
   "metadata": {},
   "outputs": [],
   "source": [
    "f.timebounds[:5], f.timebounds[-5:]"
   ]
  },
  {
   "cell_type": "code",
   "execution_count": null,
   "id": "820d168e",
   "metadata": {},
   "outputs": [],
   "source": [
    "f.timepoints[:5], f.timepoints[-5:]"
   ]
  },
  {
   "cell_type": "code",
   "execution_count": null,
   "id": "c0128227",
   "metadata": {},
   "outputs": [],
   "source": [
    "scenarios = ['ssp119', 'ssp126', 'ssp245', 'ssp370', 'ssp434', 'ssp460', 'ssp534-over', 'ssp585']\n",
    "f.define_scenarios(scenarios)"
   ]
  },
  {
   "cell_type": "code",
   "execution_count": null,
   "id": "ba2941c1",
   "metadata": {},
   "outputs": [],
   "source": [
    "df = pd.read_csv(\"../tests/test_data/4xCO2_cummins_ebm3.csv\")\n",
    "models = df['model'].unique()\n",
    "configs = []\n",
    "\n",
    "for imodel, model in enumerate(models):\n",
    "    for run in df.loc[df['model']==model, 'run']:\n",
    "        configs.append(f\"{model}_{run}\")\n",
    "f.define_configs(configs)"
   ]
  },
  {
   "cell_type": "code",
   "execution_count": null,
   "id": "232f0ba7",
   "metadata": {},
   "outputs": [],
   "source": [
    "species, properties = read_properties()"
   ]
  },
  {
   "cell_type": "code",
   "execution_count": null,
   "id": "223ca746",
   "metadata": {},
   "outputs": [],
   "source": [
    "f.define_species(species, properties)"
   ]
  },
  {
   "cell_type": "code",
   "execution_count": null,
   "id": "249567ee",
   "metadata": {},
   "outputs": [],
   "source": [
    "f.allocate()"
   ]
  },
  {
   "cell_type": "code",
   "execution_count": null,
   "id": "82c24159",
   "metadata": {},
   "outputs": [],
   "source": [
    "f.emissions"
   ]
  },
  {
   "cell_type": "code",
   "execution_count": null,
   "id": "13a6585c",
   "metadata": {},
   "outputs": [],
   "source": [
    "f.fill_species_configs()\n",
    "fill(f.species_configs['unperturbed_lifetime'], 10.8537568, specie='CH4')\n",
    "fill(f.species_configs['baseline_emissions'], 19.01978312, specie='CH4')\n",
    "fill(f.species_configs['baseline_emissions'], 0.08602230754, specie='N2O')"
   ]
  },
  {
   "cell_type": "code",
   "execution_count": null,
   "id": "106a386a",
   "metadata": {},
   "outputs": [],
   "source": [
    "df_volcanic = pd.read_csv('../tests/test_data/volcanic_ERF_monthly_175001-201912.csv', index_col='year')"
   ]
  },
  {
   "cell_type": "code",
   "execution_count": null,
   "id": "828fe492",
   "metadata": {},
   "outputs": [],
   "source": [
    "f.fill_from_rcmip()\n",
    "\n",
    "# overwrite volcanic\n",
    "volcanic_forcing = np.zeros(4201)\n",
    "volcanic_forcing[:270*12] = df_volcanic[1750:].squeeze().values\n",
    "fill(f.forcing, volcanic_forcing[:, None, None], specie=\"Volcanic\")  # sometimes need to expand the array\n",
    "\n",
    "initialise(f.concentration, f.species_configs['baseline_concentration'])\n",
    "initialise(f.forcing, 0)\n",
    "initialise(f.temperature, 0)\n",
    "initialise(f.cumulative_emissions, 0)\n",
    "initialise(f.airborne_emissions, 0)"
   ]
  },
  {
   "cell_type": "code",
   "execution_count": null,
   "id": "7c6c7fda",
   "metadata": {},
   "outputs": [],
   "source": [
    "df = pd.read_csv(\"../tests/test_data/4xCO2_cummins_ebm3.csv\")\n",
    "models = df['model'].unique()\n",
    "\n",
    "seed = 1355763\n",
    "\n",
    "# remember we rescale sigma\n",
    "for config in configs:\n",
    "    model, run = config.split('_')\n",
    "    condition = (df['model']==model) & (df['run']==run)\n",
    "    fill(f.climate_configs['ocean_heat_capacity'], df.loc[condition, 'C1':'C3'].values.squeeze(), config=config)\n",
    "    fill(f.climate_configs['ocean_heat_transfer'], df.loc[condition, 'kappa1':'kappa3'].values.squeeze(), config=config)\n",
    "    fill(f.climate_configs['deep_ocean_efficacy'], df.loc[condition, 'epsilon'].values[0], config=config)\n",
    "    fill(f.climate_configs['gamma_autocorrelation'], df.loc[condition, 'gamma'].values[0], config=config)\n",
    "    fill(f.climate_configs['sigma_eta'], df.loc[condition, 'sigma_eta'].values[0]/np.sqrt(f.timestep), config=config)\n",
    "    fill(f.climate_configs['sigma_xi'], df.loc[condition, 'sigma_xi'].values[0]/np.sqrt(f.timestep), config=config)\n",
    "    fill(f.climate_configs['stochastic_run'], True, config=config)\n",
    "    fill(f.climate_configs['use_seed'], True, config=config)\n",
    "    fill(f.climate_configs['seed'], seed, config=config)\n",
    "    \n",
    "    seed = seed + 399"
   ]
  },
  {
   "cell_type": "markdown",
   "id": "e86141e2",
   "metadata": {},
   "source": [
    "## Run"
   ]
  },
  {
   "cell_type": "code",
   "execution_count": null,
   "id": "161f66b1",
   "metadata": {},
   "outputs": [],
   "source": [
    "f.run()"
   ]
  },
  {
   "cell_type": "markdown",
   "id": "66de71c7",
   "metadata": {},
   "source": [
    "## Analyse"
   ]
  },
  {
   "cell_type": "code",
   "execution_count": null,
   "id": "73030e5b",
   "metadata": {},
   "outputs": [],
   "source": [
    "pl.plot(f.timebounds, f.temperature.loc[dict(scenario='ssp119', layer=0)], label=f.configs);\n",
    "pl.title('ssp119: temperature')\n",
    "pl.xlabel('year')\n",
    "pl.ylabel('Temperature anomaly (K)')"
   ]
  },
  {
   "cell_type": "code",
   "execution_count": null,
   "id": "ff137288",
   "metadata": {},
   "outputs": [],
   "source": [
    "import numpy as np\n",
    "t_mean = np.zeros((350, 66))\n",
    "for i in range(350):\n",
    "    t_mean[i, :] = f.temperature.loc[dict(scenario='ssp119', layer=0)][i*12:i*12+12, :].mean(axis=0)\n",
    "\n",
    "pl.plot(np.arange(1750.5, 2100), t_mean, label=f.configs);\n",
    "pl.title('ssp119: temperature, annual averages')\n",
    "pl.xlabel('year')\n",
    "pl.ylabel('Temperature anomaly (K)')"
   ]
  },
  {
   "cell_type": "code",
   "execution_count": null,
   "id": "fcc4e4eb",
   "metadata": {},
   "outputs": [],
   "source": [
    "pl.plot(f.timebounds, f.species_configs['unperturbed_lifetime'].loc[dict(specie='CH4', gasbox=0)].data * f.alpha_lifetime.loc[dict(scenario='ssp119', specie='CH4')], label=f.configs);\n",
    "pl.title('ssp119: methane lifetime')\n",
    "pl.xlabel('year')\n",
    "pl.ylabel('methane lifetime (yr)')"
   ]
  },
  {
   "cell_type": "code",
   "execution_count": null,
   "id": "97817096",
   "metadata": {},
   "outputs": [],
   "source": [
    "pl.plot(f.timebounds, f.forcing.loc[dict(scenario='ssp119', specie='CO2')], label=f.configs);\n",
    "pl.title('ssp119: CO2 forcing')\n",
    "pl.xlabel('year')\n",
    "pl.ylabel('W/m2')"
   ]
  },
  {
   "cell_type": "code",
   "execution_count": null,
   "id": "6bbd1625",
   "metadata": {},
   "outputs": [],
   "source": [
    "pl.plot(f.timebounds, f.forcing.loc[dict(scenario='ssp119', specie='CH4')], label=f.configs);\n",
    "pl.title('ssp119: methane forcing')\n",
    "pl.xlabel('year')\n",
    "pl.ylabel('W/m2')"
   ]
  },
  {
   "cell_type": "code",
   "execution_count": null,
   "id": "5a447834",
   "metadata": {},
   "outputs": [],
   "source": [
    "pl.plot(f.timebounds, f.concentration.loc[dict(scenario='ssp119', specie='CH4')], label=f.configs);\n",
    "pl.title('ssp119: methane concentration')\n",
    "pl.xlabel('year')\n",
    "pl.ylabel('Temperature anomaly (K)')"
   ]
  },
  {
   "cell_type": "code",
   "execution_count": null,
   "id": "0b48aa88",
   "metadata": {},
   "outputs": [],
   "source": [
    "pl.plot(f.timebounds, f.concentration.loc[dict(scenario='ssp119', specie='Equivalent effective stratospheric chlorine')], label=f.configs);\n",
    "pl.title('ssp119: EESC')\n",
    "pl.xlabel('year')\n",
    "pl.ylabel('ppt')"
   ]
  },
  {
   "cell_type": "code",
   "execution_count": null,
   "id": "f6159784",
   "metadata": {},
   "outputs": [],
   "source": [
    "pl.plot(f.timebounds, f.forcing.loc[dict(scenario='ssp119', specie='N2O')], label=f.configs);\n",
    "pl.title('ssp119: N2O concentration')\n",
    "pl.xlabel('year')\n",
    "pl.ylabel('ppb')"
   ]
  },
  {
   "cell_type": "code",
   "execution_count": null,
   "id": "362cea65",
   "metadata": {},
   "outputs": [],
   "source": [
    "pl.plot(f.timebounds, f.forcing.loc[dict(scenario='ssp119', specie='N2O')], label=f.configs);\n",
    "pl.title('ssp119: N2O forcing')\n",
    "pl.xlabel('year')\n",
    "pl.ylabel('W/m2')"
   ]
  },
  {
   "cell_type": "code",
   "execution_count": null,
   "id": "6e54610f",
   "metadata": {},
   "outputs": [],
   "source": [
    "pl.plot(f.timebounds, f.concentration.loc[dict(scenario='ssp119', specie='CH3Cl')], label=f.configs);\n",
    "pl.title('ssp119: Halon-1211 concentration')\n",
    "pl.xlabel('year')\n",
    "pl.ylabel('ppt')"
   ]
  },
  {
   "cell_type": "code",
   "execution_count": null,
   "id": "08cb3539",
   "metadata": {},
   "outputs": [],
   "source": [
    "pl.plot(f.timebounds, f.forcing.loc[dict(scenario='ssp119', specie='Aerosol-radiation interactions')], label=f.configs);\n",
    "pl.title('ssp119: ERFari')\n",
    "pl.xlabel('year')\n",
    "pl.ylabel('W/m2')"
   ]
  },
  {
   "cell_type": "code",
   "execution_count": null,
   "id": "5be36a14",
   "metadata": {},
   "outputs": [],
   "source": [
    "pl.plot(f.timebounds, f.forcing.loc[dict(scenario='ssp119', specie='Aerosol-cloud interactions')], label=f.configs);\n",
    "pl.title('ssp119: ERFaci')\n",
    "pl.xlabel('year')\n",
    "pl.ylabel('W/m2')"
   ]
  },
  {
   "cell_type": "code",
   "execution_count": null,
   "id": "3a282249",
   "metadata": {},
   "outputs": [],
   "source": [
    "pl.plot(f.timebounds, f.forcing.loc[dict(scenario='ssp119', specie='Ozone')], label=f.configs);\n",
    "pl.title('ssp119: Ozone forcing')\n",
    "pl.xlabel('year')\n",
    "pl.ylabel('W/m2')"
   ]
  },
  {
   "cell_type": "code",
   "execution_count": null,
   "id": "756c55db",
   "metadata": {},
   "outputs": [],
   "source": [
    "pl.plot(f.timebounds, f.forcing.loc[dict(scenario='ssp119', specie='Contrails')], label=f.configs);\n",
    "pl.title('ssp119: Contrails')\n",
    "pl.xlabel('year')\n",
    "pl.ylabel('W/m2')"
   ]
  },
  {
   "cell_type": "code",
   "execution_count": null,
   "id": "c7e4235b",
   "metadata": {},
   "outputs": [],
   "source": [
    "pl.plot(f.timebounds, f.forcing.loc[dict(scenario='ssp119', specie='Light absorbing particles on snow and ice')], label=f.configs);\n",
    "pl.title('ssp119: LAPSI')\n",
    "pl.xlabel('year')\n",
    "pl.ylabel('W/m2')"
   ]
  },
  {
   "cell_type": "code",
   "execution_count": null,
   "id": "bca5e50f",
   "metadata": {},
   "outputs": [],
   "source": [
    "pl.plot(f.timebounds, f.forcing.loc[dict(scenario='ssp119', specie='Land use')], label=f.configs);\n",
    "pl.title('ssp119: land use forcing')\n",
    "pl.xlabel('year')\n",
    "pl.ylabel('W/m2')"
   ]
  },
  {
   "cell_type": "code",
   "execution_count": null,
   "id": "11ed918d",
   "metadata": {},
   "outputs": [],
   "source": [
    "pl.plot(f.timebounds, f.forcing.loc[dict(scenario='ssp119', specie='Solar')], label=f.configs);\n",
    "pl.title('ssp119: solar forcing')\n",
    "pl.xlabel('year')\n",
    "pl.ylabel('W/m2')"
   ]
  },
  {
   "cell_type": "code",
   "execution_count": null,
   "id": "1b7c73e5",
   "metadata": {},
   "outputs": [],
   "source": [
    "pl.plot(f.timebounds, f.forcing.loc[dict(scenario='ssp119', specie='Volcanic')], label=f.configs);\n",
    "pl.title('ssp119: volcanic forcing')\n",
    "pl.xlabel('year')\n",
    "pl.ylabel('W/m2')"
   ]
  },
  {
   "cell_type": "code",
   "execution_count": null,
   "id": "e010ae31",
   "metadata": {},
   "outputs": [],
   "source": [
    "pl.plot(f.timebounds, f.forcing.loc[dict(scenario='ssp119', specie='Stratospheric water vapour')], label=f.configs);\n",
    "pl.title('ssp119: Stratospheric water vapour forcing')\n",
    "pl.xlabel('year')\n",
    "pl.ylabel('W/m2')"
   ]
  },
  {
   "cell_type": "code",
   "execution_count": null,
   "id": "f0ddf1a8",
   "metadata": {},
   "outputs": [],
   "source": [
    "pl.plot(f.timebounds, f.temperature.loc[dict(scenario='ssp126', layer=0)], label=f.configs);\n",
    "pl.title('ssp126: temperature')\n",
    "pl.xlabel('year')\n",
    "pl.ylabel('Temperature anomaly (K)')\n",
    "#pl.legend()"
   ]
  },
  {
   "cell_type": "code",
   "execution_count": null,
   "id": "79d150d6",
   "metadata": {},
   "outputs": [],
   "source": [
    "pl.plot(f.timebounds, f.temperature.loc[dict(scenario='ssp245', layer=0)], label=f.configs);\n",
    "pl.title('ssp245: temperature')\n",
    "pl.xlabel('year')\n",
    "pl.ylabel('Temperature anomaly (K)')\n",
    "#pl.legend()"
   ]
  },
  {
   "cell_type": "code",
   "execution_count": null,
   "id": "38d20587",
   "metadata": {},
   "outputs": [],
   "source": [
    "pl.plot(f.timebounds, f.temperature.loc[dict(scenario='ssp370', layer=0)], label=f.configs);\n",
    "pl.title('ssp370: temperature')\n",
    "pl.xlabel('year')\n",
    "pl.ylabel('Temperature anomaly (K)')\n",
    "#pl.legend()"
   ]
  },
  {
   "cell_type": "code",
   "execution_count": null,
   "id": "73a8d318",
   "metadata": {},
   "outputs": [],
   "source": [
    "pl.plot(f.timebounds, f.temperature.loc[dict(scenario='ssp585', layer=0)], label=f.configs);\n",
    "pl.title('ssp585: temperature')\n",
    "pl.xlabel('year')\n",
    "pl.ylabel('Temperature anomaly (K)')\n",
    "#pl.legend()"
   ]
  },
  {
   "cell_type": "code",
   "execution_count": null,
   "id": "9ba30dfd",
   "metadata": {},
   "outputs": [],
   "source": [
    "pl.plot(f.timebounds, f.forcing.loc[dict(scenario='ssp126', specie='Ozone')], label=f.configs);\n",
    "pl.title('ssp126: Ozone forcing')\n",
    "pl.xlabel('year')\n",
    "pl.ylabel('W/m2')"
   ]
  },
  {
   "cell_type": "code",
   "execution_count": null,
   "id": "d4a2dc5d",
   "metadata": {},
   "outputs": [],
   "source": [
    "pl.plot(f.timebounds, f.forcing.loc[dict(scenario='ssp245', specie='Ozone')], label=f.configs);\n",
    "pl.title('ssp245: Ozone forcing')\n",
    "pl.xlabel('year')\n",
    "pl.ylabel('W/m2')"
   ]
  },
  {
   "cell_type": "code",
   "execution_count": null,
   "id": "370be98f",
   "metadata": {},
   "outputs": [],
   "source": [
    "pl.plot(f.timebounds, f.forcing.loc[dict(scenario='ssp370', specie='Ozone')], label=f.configs);\n",
    "pl.title('ssp370: Ozone forcing')\n",
    "pl.xlabel('year')\n",
    "pl.ylabel('W/m2')"
   ]
  },
  {
   "cell_type": "code",
   "execution_count": null,
   "id": "27d93249",
   "metadata": {},
   "outputs": [],
   "source": [
    "pl.plot(f.timebounds, f.forcing.loc[dict(scenario='ssp585', specie='Ozone')], label=f.configs);\n",
    "pl.title('ssp585: Ozone forcing')\n",
    "pl.xlabel('year')\n",
    "pl.ylabel('W/m2')"
   ]
  },
  {
   "cell_type": "code",
   "execution_count": null,
   "id": "ba3ad230",
   "metadata": {},
   "outputs": [],
   "source": [
    "pl.plot(f.timebounds, f.airborne_emissions.loc[dict(scenario='ssp585', specie='CO2')], label=f.configs);\n",
    "pl.title('ssp585: Airborne emissions of CO2')\n",
    "pl.xlabel('year')\n",
    "pl.ylabel('GtCO2')"
   ]
  },
  {
   "cell_type": "code",
   "execution_count": null,
   "id": "8d74462f",
   "metadata": {},
   "outputs": [],
   "source": [
    "pl.plot(f.timebounds, f.airborne_fraction.loc[dict(scenario='ssp585', specie='CO2')], label=f.configs);\n",
    "pl.title('ssp585: Airborne fraction of CO2')\n",
    "pl.xlabel('year')\n",
    "pl.ylabel('[1]')"
   ]
  },
  {
   "cell_type": "code",
   "execution_count": null,
   "id": "21cbb591",
   "metadata": {},
   "outputs": [],
   "source": [
    "pl.plot(f.timebounds, f.cumulative_emissions.loc[dict(scenario='ssp585', specie='CO2')], label=f.configs);\n",
    "pl.title('ssp585: Cumulative emissions of CO2')\n",
    "pl.xlabel('year')\n",
    "pl.ylabel('GtCO2')"
   ]
  },
  {
   "cell_type": "code",
   "execution_count": null,
   "id": "a792162f",
   "metadata": {},
   "outputs": [],
   "source": [
    "pl.plot(f.timebounds, f.ocean_heat_content_change.loc[dict(scenario='ssp585')], label=f.configs);\n",
    "pl.title('ssp585: Ocean heat content change')\n",
    "pl.xlabel('year')\n",
    "pl.ylabel('J')"
   ]
  },
  {
   "cell_type": "code",
   "execution_count": null,
   "id": "3c8e49c4",
   "metadata": {},
   "outputs": [],
   "source": [
    "pl.plot(f.timebounds, f.toa_imbalance.loc[dict(scenario='ssp585')], label=f.configs);\n",
    "pl.title('ssp585: Top of atmosphere energy imbalance')\n",
    "pl.xlabel('year')\n",
    "pl.ylabel('W m$^{-2}$')"
   ]
  },
  {
   "cell_type": "code",
   "execution_count": null,
   "id": "ae0a76d8",
   "metadata": {},
   "outputs": [],
   "source": [
    "pl.plot(f.timebounds, f.stochastic_forcing.loc[dict(scenario='ssp585')], label=f.configs);\n",
    "pl.title('ssp585: Total forcing')\n",
    "pl.xlabel('year')\n",
    "pl.ylabel('W m$^{-2}$')"
   ]
  },
  {
   "cell_type": "code",
   "execution_count": null,
   "id": "e324dd49",
   "metadata": {},
   "outputs": [],
   "source": [
    "pl.plot(f.timebounds, f.forcing_sum.loc[dict(scenario='ssp585')], label=f.configs);\n",
    "pl.title('ssp585: Deterministic forcing')\n",
    "pl.xlabel('year')\n",
    "pl.ylabel('W m$^{-2}$')"
   ]
  },
  {
   "cell_type": "code",
   "execution_count": null,
   "id": "d133fe2e",
   "metadata": {},
   "outputs": [],
   "source": [
    "pl.plot(f.timebounds, f.stochastic_forcing.loc[dict(scenario='ssp585')]-f.forcing_sum.loc[dict(scenario='ssp585')], label=f.configs);\n",
    "pl.title('ssp585: Stochastic forcing component')\n",
    "pl.xlabel('year')\n",
    "pl.ylabel('W m$^{-2}$')"
   ]
  },
  {
   "cell_type": "code",
   "execution_count": null,
   "id": "46a1103e",
   "metadata": {},
   "outputs": [],
   "source": []
  }
 ],
 "metadata": {
  "kernelspec": {
   "display_name": "Python 3 (ipykernel)",
   "language": "python",
   "name": "python3"
  },
  "language_info": {
   "codemirror_mode": {
    "name": "ipython",
    "version": 3
   },
   "file_extension": ".py",
   "mimetype": "text/x-python",
   "name": "python",
   "nbconvert_exporter": "python",
   "pygments_lexer": "ipython3",
   "version": "3.9.15"
  }
 },
 "nbformat": 4,
 "nbformat_minor": 5
}
