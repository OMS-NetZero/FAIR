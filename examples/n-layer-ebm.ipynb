{
 "cells": [
  {
   "cell_type": "markdown",
   "id": "7ca42a84",
   "metadata": {},
   "source": [
    "# Run the n-layer energy balance model\n",
    "\n",
    "This notebook shows examples of extending the 3-layer energy balance model to general n.\n",
    "\n",
    "For the two and three layer cases we'll take the MLE estimates from Cummins et al. (2020) for HadGEM2-ES, and we'll use the GISS forcing. Where n > 3 the data is fake."
   ]
  },
  {
   "cell_type": "code",
   "execution_count": null,
   "id": "7c8fba9e",
   "metadata": {},
   "outputs": [],
   "source": [
    "import matplotlib.pyplot as pl\n",
    "import numpy as np\n",
    "import pandas as pd\n",
    "import pooch\n",
    "\n",
    "from fair.energy_balance_model import EnergyBalanceModel"
   ]
  },
  {
   "cell_type": "code",
   "execution_count": null,
   "id": "10e2eeb3",
   "metadata": {},
   "outputs": [],
   "source": [
    "df_forcing = pd.read_csv('../tests/test_data/RFMIP_ERF_tier2_GISS-E2-1-G.csv')"
   ]
  },
  {
   "cell_type": "code",
   "execution_count": null,
   "id": "03983341",
   "metadata": {},
   "outputs": [],
   "source": [
    "ebm3 = EnergyBalanceModel(\n",
    "    ocean_heat_capacity=[3.62, 9.47, 98.66],\n",
    "    ocean_heat_transfer=[0.54, 2.39, 0.63],\n",
    "    deep_ocean_efficacy=1.59,\n",
    "    gamma_autocorrelation=1.73,\n",
    "    sigma_xi=0.32,\n",
    "    sigma_eta=0.43,\n",
    "    forcing_4co2=6.35,\n",
    "    stochastic_run=True,\n",
    "    seed=16\n",
    ")"
   ]
  },
  {
   "cell_type": "code",
   "execution_count": null,
   "id": "1b1395d8",
   "metadata": {},
   "outputs": [],
   "source": [
    "ebm3.add_forcing(forcing = df_forcing['GISS-E2-1-G TOT'].values, timestep=1)"
   ]
  },
  {
   "cell_type": "code",
   "execution_count": null,
   "id": "13a3a21f",
   "metadata": {},
   "outputs": [],
   "source": [
    "ebm3.run()"
   ]
  },
  {
   "cell_type": "code",
   "execution_count": null,
   "id": "d702c0e1",
   "metadata": {},
   "outputs": [],
   "source": [
    "ebm3.temperature"
   ]
  },
  {
   "cell_type": "code",
   "execution_count": null,
   "id": "8f86c799",
   "metadata": {},
   "outputs": [],
   "source": [
    "time = np.arange(1850.5, 2101)"
   ]
  },
  {
   "cell_type": "code",
   "execution_count": null,
   "id": "af887d32",
   "metadata": {},
   "outputs": [],
   "source": [
    "pl.plot(time, ebm3.temperature[:,0], label='surface / top ocean layer')\n",
    "pl.plot(time, ebm3.temperature[:,1], label='second ocean layer')\n",
    "pl.plot(time, ebm3.temperature[:,2], label='deep ocean layer')\n",
    "pl.ylabel('K relative to 1850')\n",
    "pl.title('SSP2-4.5 temperature change')\n",
    "pl.legend()"
   ]
  },
  {
   "cell_type": "code",
   "execution_count": null,
   "id": "c52335d3",
   "metadata": {},
   "outputs": [],
   "source": [
    "ebm3.emergent_parameters()\n",
    "ebm3.ecs, ebm3.tcr"
   ]
  },
  {
   "cell_type": "code",
   "execution_count": null,
   "id": "6c9bb54f",
   "metadata": {},
   "outputs": [],
   "source": [
    "ebm2 = EnergyBalanceModel(\n",
    "    ocean_heat_capacity=[7.73, 89.29],\n",
    "    ocean_heat_transfer=[0.63, 0.52],\n",
    "    deep_ocean_efficacy=1.52,\n",
    "    gamma_autocorrelation=1.58,\n",
    "    sigma_xi=0.64,\n",
    "    sigma_eta=0.43,\n",
    "    stochastic_run=True,\n",
    "    forcing_4co2=6.86,\n",
    "    seed=16\n",
    ")"
   ]
  },
  {
   "cell_type": "code",
   "execution_count": null,
   "id": "eec722cd",
   "metadata": {},
   "outputs": [],
   "source": [
    "ebm2.add_forcing(forcing = df_forcing['GISS-E2-1-G TOT'].values, timestep=1)"
   ]
  },
  {
   "cell_type": "code",
   "execution_count": null,
   "id": "183a0a25",
   "metadata": {},
   "outputs": [],
   "source": [
    "ebm2.emergent_parameters()\n",
    "ebm2.ecs, ebm2.tcr"
   ]
  },
  {
   "cell_type": "code",
   "execution_count": null,
   "id": "efcba4e6",
   "metadata": {},
   "outputs": [],
   "source": [
    "ebm2.run()"
   ]
  },
  {
   "cell_type": "code",
   "execution_count": null,
   "id": "953c9699",
   "metadata": {},
   "outputs": [],
   "source": [
    "pl.plot(time, ebm2.temperature[:,0], label='surface / top ocean layer')\n",
    "pl.plot(time, ebm2.temperature[:,1], label='deep ocean layer')\n",
    "pl.ylabel('K relative to 1850')\n",
    "pl.title('SSP2-4.5 temperature change')\n",
    "pl.legend()"
   ]
  },
  {
   "cell_type": "code",
   "execution_count": null,
   "id": "9af9c4df",
   "metadata": {},
   "outputs": [],
   "source": [
    "# this is not based on a tuning to any existing CMIP6 model, but I try to get the TCR close to the \n",
    "# HadGEM2 2- and 3-layer cases.\n",
    "ebm4 = EnergyBalanceModel(\n",
    "    ocean_heat_capacity=[1.3, 9, 20, 80],\n",
    "    ocean_heat_transfer=[0.54, 3, 3, 0.63],\n",
    "    deep_ocean_efficacy=1.2,\n",
    "    gamma_autocorrelation=1.73,\n",
    "    sigma_xi=0.32,\n",
    "    sigma_eta=0.43,\n",
    "    forcing_4co2=6.35,\n",
    "    stochastic_run=True,\n",
    "    seed=16\n",
    ")"
   ]
  },
  {
   "cell_type": "code",
   "execution_count": null,
   "id": "b7804d09",
   "metadata": {},
   "outputs": [],
   "source": [
    "ebm4.emergent_parameters()\n",
    "ebm4.ecs, ebm4.tcr"
   ]
  },
  {
   "cell_type": "code",
   "execution_count": null,
   "id": "d78f6305",
   "metadata": {},
   "outputs": [],
   "source": [
    "ebm4.add_forcing(forcing = df_forcing['GISS-E2-1-G TOT'].values, timestep=1)"
   ]
  },
  {
   "cell_type": "code",
   "execution_count": null,
   "id": "1791dde1",
   "metadata": {},
   "outputs": [],
   "source": [
    "ebm4.run()"
   ]
  },
  {
   "cell_type": "code",
   "execution_count": null,
   "id": "74d914c9",
   "metadata": {},
   "outputs": [],
   "source": [
    "pl.plot(time, ebm4.temperature[:,0], label='surface / top ocean layer')\n",
    "pl.plot(time, ebm4.temperature[:,1], label='second ocean layer')\n",
    "pl.plot(time, ebm4.temperature[:,2], label='third ocean layer')\n",
    "pl.plot(time, ebm4.temperature[:,3], label='deep ocean layer')\n",
    "pl.ylabel('K relative to 1850')\n",
    "pl.title('SSP2-4.5 temperature change')\n",
    "pl.legend()"
   ]
  },
  {
   "cell_type": "code",
   "execution_count": null,
   "id": "871d814d",
   "metadata": {},
   "outputs": [],
   "source": [
    "# let's go totally crazy\n",
    "ebm10 = EnergyBalanceModel(\n",
    "    ocean_heat_capacity=[0.6, 1.3, 2, 5, 7, 10, 45, 70, 80, 130],\n",
    "    ocean_heat_transfer=[0.54, 4, 5, 5, 5, 5, 5, 5, 5, 0.63],\n",
    "    deep_ocean_efficacy=1.2,\n",
    "    gamma_autocorrelation=1.73,\n",
    "    sigma_xi=0.32,\n",
    "    sigma_eta=0.43,\n",
    "    forcing_4co2=6.35,\n",
    "    stochastic_run=True,\n",
    "    seed=16\n",
    ")"
   ]
  },
  {
   "cell_type": "code",
   "execution_count": null,
   "id": "0dc2b634",
   "metadata": {},
   "outputs": [],
   "source": [
    "ebm10.emergent_parameters()\n",
    "ebm10.ecs, ebm10.tcr"
   ]
  },
  {
   "cell_type": "code",
   "execution_count": null,
   "id": "c7542ae1",
   "metadata": {},
   "outputs": [],
   "source": [
    "ebm10.add_forcing(forcing = df_forcing['GISS-E2-1-G TOT'].values, timestep=1)"
   ]
  },
  {
   "cell_type": "code",
   "execution_count": null,
   "id": "26acb007",
   "metadata": {},
   "outputs": [],
   "source": [
    "ebm10.run()"
   ]
  },
  {
   "cell_type": "code",
   "execution_count": null,
   "id": "009c8ae0",
   "metadata": {},
   "outputs": [],
   "source": [
    "pl.plot(time, ebm10.temperature[:,0], label='surface / top ocean layer')\n",
    "pl.plot(time, ebm10.temperature[:,1], label='second ocean layer')\n",
    "pl.plot(time, ebm10.temperature[:,2], label='third ocean layer')\n",
    "pl.plot(time, ebm10.temperature[:,3], label='fourth ocean layer')\n",
    "pl.plot(time, ebm10.temperature[:,4], label='fifth ocean layer')\n",
    "pl.plot(time, ebm10.temperature[:,5], label='sixth ocean layer')\n",
    "pl.plot(time, ebm10.temperature[:,6], label='seventh ocean layer')\n",
    "pl.plot(time, ebm10.temperature[:,7], label='eighth ocean layer')\n",
    "pl.plot(time, ebm10.temperature[:,8], label='ninth ocean layer')\n",
    "pl.plot(time, ebm10.temperature[:,9], label='deep ocean layer')\n",
    "pl.ylabel('K relative to 1850')\n",
    "pl.title('SSP2-4.5 temperature change')\n",
    "pl.legend()"
   ]
  },
  {
   "cell_type": "code",
   "execution_count": null,
   "id": "1a60ee9d",
   "metadata": {},
   "outputs": [],
   "source": [
    "pl.plot(time, ebm2.temperature[:,0], label='two layer model')\n",
    "pl.plot(time, ebm3.temperature[:,0], label='three layer model')\n",
    "pl.plot(time, ebm4.temperature[:,0], label='four layer model')\n",
    "pl.plot(time, ebm10.temperature[:,0], label='ten layer model')\n",
    "pl.ylabel('K relative to 1850')\n",
    "pl.title('SSP2-4.5 temperature change')\n",
    "pl.legend()"
   ]
  },
  {
   "cell_type": "code",
   "execution_count": null,
   "id": "7774bedf",
   "metadata": {},
   "outputs": [],
   "source": [
    "pl.plot(time, ebm2.toa_imbalance, label='two layer model')\n",
    "pl.plot(time, ebm3.toa_imbalance, label='three layer model')\n",
    "pl.plot(time, ebm4.toa_imbalance, label='four layer model')\n",
    "pl.plot(time, ebm10.toa_imbalance, label='ten layer model')\n",
    "pl.ylabel('W/m2 relative to 1850')\n",
    "pl.title('SSP2-4.5 TOA radiation change')\n",
    "pl.legend()"
   ]
  },
  {
   "cell_type": "markdown",
   "id": "ca6e5f1d",
   "metadata": {},
   "source": [
    "## Repeat everything with stochastic forcing switched off"
   ]
  },
  {
   "cell_type": "code",
   "execution_count": null,
   "id": "80a091ff",
   "metadata": {},
   "outputs": [],
   "source": [
    "ebm3 = EnergyBalanceModel(\n",
    "    ocean_heat_capacity=[3.62, 9.47, 98.66],\n",
    "    ocean_heat_transfer=[0.54, 2.39, 0.63],\n",
    "    deep_ocean_efficacy=1.59,\n",
    "    gamma_autocorrelation=1.73,\n",
    "    sigma_xi=0.32,\n",
    "    sigma_eta=0.43,\n",
    "    forcing_4co2=6.35,\n",
    "    stochastic_run=False,\n",
    "    seed=16\n",
    ")"
   ]
  },
  {
   "cell_type": "code",
   "execution_count": null,
   "id": "00eaff65",
   "metadata": {},
   "outputs": [],
   "source": [
    "ebm3.add_forcing(forcing = df_forcing['GISS-E2-1-G TOT'].values, timestep=1)"
   ]
  },
  {
   "cell_type": "code",
   "execution_count": null,
   "id": "7160f4e5",
   "metadata": {},
   "outputs": [],
   "source": [
    "ebm3.run()"
   ]
  },
  {
   "cell_type": "code",
   "execution_count": null,
   "id": "7535b85f",
   "metadata": {},
   "outputs": [],
   "source": [
    "ebm3.temperature"
   ]
  },
  {
   "cell_type": "code",
   "execution_count": null,
   "id": "ed06e7ba",
   "metadata": {},
   "outputs": [],
   "source": [
    "time = np.arange(1850.5, 2101)"
   ]
  },
  {
   "cell_type": "code",
   "execution_count": null,
   "id": "9a049372",
   "metadata": {},
   "outputs": [],
   "source": [
    "pl.plot(time, ebm3.temperature[:,0], label='surface / top ocean layer')\n",
    "pl.plot(time, ebm3.temperature[:,1], label='second ocean layer')\n",
    "pl.plot(time, ebm3.temperature[:,2], label='deep ocean layer')\n",
    "pl.ylabel('K relative to 1850')\n",
    "pl.title('SSP2-4.5 temperature change')\n",
    "pl.legend()"
   ]
  },
  {
   "cell_type": "code",
   "execution_count": null,
   "id": "dd85062b",
   "metadata": {},
   "outputs": [],
   "source": [
    "ebm3.emergent_parameters()\n",
    "ebm3.ecs, ebm3.tcr"
   ]
  },
  {
   "cell_type": "code",
   "execution_count": null,
   "id": "d0968e0f",
   "metadata": {},
   "outputs": [],
   "source": [
    "ebm2 = EnergyBalanceModel(\n",
    "    ocean_heat_capacity=[7.73, 89.29],\n",
    "    ocean_heat_transfer=[0.63, 0.52],\n",
    "    deep_ocean_efficacy=1.52,\n",
    "    gamma_autocorrelation=1.58,\n",
    "    sigma_xi=0.64,\n",
    "    sigma_eta=0.43,\n",
    "    stochastic_run=False,\n",
    "    forcing_4co2=6.86,\n",
    "    seed=16\n",
    ")"
   ]
  },
  {
   "cell_type": "code",
   "execution_count": null,
   "id": "a6a25591",
   "metadata": {},
   "outputs": [],
   "source": [
    "ebm2.add_forcing(forcing = df_forcing['GISS-E2-1-G TOT'].values, timestep=1)"
   ]
  },
  {
   "cell_type": "code",
   "execution_count": null,
   "id": "84d9c81b",
   "metadata": {},
   "outputs": [],
   "source": [
    "ebm2.emergent_parameters()\n",
    "ebm2.ecs, ebm2.tcr"
   ]
  },
  {
   "cell_type": "code",
   "execution_count": null,
   "id": "607cd001",
   "metadata": {},
   "outputs": [],
   "source": [
    "ebm2.run()"
   ]
  },
  {
   "cell_type": "code",
   "execution_count": null,
   "id": "e7bb11f5",
   "metadata": {},
   "outputs": [],
   "source": [
    "pl.plot(time, ebm2.temperature[:,0], label='surface / top ocean layer')\n",
    "pl.plot(time, ebm2.temperature[:,1], label='deep ocean layer')\n",
    "pl.ylabel('K relative to 1850')\n",
    "pl.title('SSP2-4.5 temperature change')\n",
    "pl.legend()"
   ]
  },
  {
   "cell_type": "code",
   "execution_count": null,
   "id": "9daf7365",
   "metadata": {},
   "outputs": [],
   "source": [
    "# this is not based on a tuning to any existing CMIP6 model, but I try to get the TCR close to the \n",
    "# HadGEM2 2- and 3-layer cases.\n",
    "ebm4 = EnergyBalanceModel(\n",
    "    ocean_heat_capacity=[1.3, 9, 20, 80],\n",
    "    ocean_heat_transfer=[0.54, 3, 3, 0.63],\n",
    "    deep_ocean_efficacy=1.2,\n",
    "    gamma_autocorrelation=1.73,\n",
    "    sigma_xi=0.32,\n",
    "    sigma_eta=0.43,\n",
    "    forcing_4co2=6.35,\n",
    "    stochastic_run=False,\n",
    "    seed=16\n",
    ")"
   ]
  },
  {
   "cell_type": "code",
   "execution_count": null,
   "id": "2b0e8532",
   "metadata": {},
   "outputs": [],
   "source": [
    "ebm4.emergent_parameters()\n",
    "ebm4.ecs, ebm4.tcr"
   ]
  },
  {
   "cell_type": "code",
   "execution_count": null,
   "id": "8eb143f0",
   "metadata": {},
   "outputs": [],
   "source": [
    "ebm4.add_forcing(forcing = df_forcing['GISS-E2-1-G TOT'].values, timestep=1)"
   ]
  },
  {
   "cell_type": "code",
   "execution_count": null,
   "id": "e8634e96",
   "metadata": {},
   "outputs": [],
   "source": [
    "ebm4.run()"
   ]
  },
  {
   "cell_type": "code",
   "execution_count": null,
   "id": "6297c236",
   "metadata": {},
   "outputs": [],
   "source": [
    "pl.plot(time, ebm4.temperature[:,0], label='surface / top ocean layer')\n",
    "pl.plot(time, ebm4.temperature[:,1], label='second ocean layer')\n",
    "pl.plot(time, ebm4.temperature[:,2], label='third ocean layer')\n",
    "pl.plot(time, ebm4.temperature[:,3], label='deep ocean layer')\n",
    "pl.ylabel('K relative to 1850')\n",
    "pl.title('SSP2-4.5 temperature change')\n",
    "pl.legend()"
   ]
  },
  {
   "cell_type": "code",
   "execution_count": null,
   "id": "32ddeabe",
   "metadata": {},
   "outputs": [],
   "source": [
    "# let's go totally crazy\n",
    "ebm10 = EnergyBalanceModel(\n",
    "    ocean_heat_capacity=[0.6, 1.3, 2, 5, 7, 10, 45, 70, 80, 130],\n",
    "    ocean_heat_transfer=[0.54, 4, 5, 5, 5, 5, 5, 5, 5, 0.63],\n",
    "    deep_ocean_efficacy=1.2,\n",
    "    gamma_autocorrelation=1.73,\n",
    "    sigma_xi=0.32,\n",
    "    sigma_eta=0.43,\n",
    "    forcing_4co2=6.35,\n",
    "    stochastic_run=False,\n",
    "    seed=16\n",
    ")"
   ]
  },
  {
   "cell_type": "code",
   "execution_count": null,
   "id": "16f0d1fa",
   "metadata": {},
   "outputs": [],
   "source": [
    "ebm10.emergent_parameters()\n",
    "ebm10.ecs, ebm10.tcr"
   ]
  },
  {
   "cell_type": "code",
   "execution_count": null,
   "id": "ef991a62",
   "metadata": {},
   "outputs": [],
   "source": [
    "ebm10.add_forcing(forcing = df_forcing['GISS-E2-1-G TOT'].values, timestep=1)"
   ]
  },
  {
   "cell_type": "code",
   "execution_count": null,
   "id": "e4e9812a",
   "metadata": {},
   "outputs": [],
   "source": [
    "ebm10.run()"
   ]
  },
  {
   "cell_type": "code",
   "execution_count": null,
   "id": "32b4fb7f",
   "metadata": {},
   "outputs": [],
   "source": [
    "pl.plot(time, ebm10.temperature[:,0], label='surface / top ocean layer')\n",
    "pl.plot(time, ebm10.temperature[:,1], label='second ocean layer')\n",
    "pl.plot(time, ebm10.temperature[:,2], label='third ocean layer')\n",
    "pl.plot(time, ebm10.temperature[:,3], label='fourth ocean layer')\n",
    "pl.plot(time, ebm10.temperature[:,4], label='fifth ocean layer')\n",
    "pl.plot(time, ebm10.temperature[:,5], label='sixth ocean layer')\n",
    "pl.plot(time, ebm10.temperature[:,6], label='seventh ocean layer')\n",
    "pl.plot(time, ebm10.temperature[:,7], label='eighth ocean layer')\n",
    "pl.plot(time, ebm10.temperature[:,8], label='ninth ocean layer')\n",
    "pl.plot(time, ebm10.temperature[:,9], label='deep ocean layer')\n",
    "pl.ylabel('K relative to 1850')\n",
    "pl.title('SSP2-4.5 temperature change')\n",
    "pl.legend()"
   ]
  },
  {
   "cell_type": "code",
   "execution_count": null,
   "id": "be03c9c5",
   "metadata": {},
   "outputs": [],
   "source": [
    "pl.plot(time, ebm2.temperature[:,0], label='two layer model')\n",
    "pl.plot(time, ebm3.temperature[:,0], label='three layer model')\n",
    "pl.plot(time, ebm4.temperature[:,0], label='four layer model')\n",
    "pl.plot(time, ebm10.temperature[:,0], label='ten layer model')\n",
    "pl.ylabel('K relative to 1850')\n",
    "pl.title('SSP2-4.5 temperature change')\n",
    "pl.legend()"
   ]
  },
  {
   "cell_type": "code",
   "execution_count": null,
   "id": "d56edaac",
   "metadata": {},
   "outputs": [],
   "source": [
    "pl.plot(time, ebm2.toa_imbalance, label='two layer model')\n",
    "pl.plot(time, ebm3.toa_imbalance, label='three layer model')\n",
    "pl.plot(time, ebm4.toa_imbalance, label='four layer model')\n",
    "pl.plot(time, ebm10.toa_imbalance, label='ten layer model')\n",
    "pl.ylabel('W/m2 relative to 1850')\n",
    "pl.title('SSP2-4.5 TOA radiation change')\n",
    "pl.legend()"
   ]
  },
  {
   "cell_type": "code",
   "execution_count": null,
   "id": "afeaa90d",
   "metadata": {},
   "outputs": [],
   "source": []
  }
 ],
 "metadata": {
  "kernelspec": {
   "display_name": "Python 3 (ipykernel)",
   "language": "python",
   "name": "python3"
  },
  "language_info": {
   "codemirror_mode": {
    "name": "ipython",
    "version": 3
   },
   "file_extension": ".py",
   "mimetype": "text/x-python",
   "name": "python",
   "nbconvert_exporter": "python",
   "pygments_lexer": "ipython3",
   "version": "3.9.15"
  }
 },
 "nbformat": 4,
 "nbformat_minor": 5
}
