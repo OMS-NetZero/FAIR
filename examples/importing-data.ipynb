{
 "cells": [
  {
   "cell_type": "markdown",
   "id": "0",
   "metadata": {},
   "source": [
    "# Importing emissions files\n",
    "\n",
    "This notebook example shows how to run FaIR with your own emissions scenarios. This feature was introduced in fair v2.2.0.\n",
    "\n",
    "The data is in the `examples/data/importing-data` directory of the fair repository.\n",
    "\n",
    "The structure of this example closely follows the `basic-run-example`."
   ]
  },
  {
   "cell_type": "code",
   "execution_count": null,
   "id": "1",
   "metadata": {},
   "outputs": [],
   "source": [
    "import pandas as pd\n",
    "from fair import FAIR\n",
    "from fair.io import read_properties\n",
    "from fair.interface import fill, initialise\n",
    "\n",
    "import matplotlib.pyplot as pl"
   ]
  },
  {
   "cell_type": "code",
   "execution_count": null,
   "id": "2",
   "metadata": {},
   "outputs": [],
   "source": [
    "f = FAIR()"
   ]
  },
  {
   "cell_type": "markdown",
   "id": "3",
   "metadata": {},
   "source": [
    "## Set up the run"
   ]
  },
  {
   "cell_type": "code",
   "execution_count": null,
   "id": "4",
   "metadata": {},
   "outputs": [],
   "source": [
    "f.define_time(2000, 2050, 1)  # annual timestep, running from 2000 to 2050\n",
    "f.define_scenarios([\"renewable\", \"fossil\"])  # define two emissions scenarios\n",
    "f.define_configs([\"one\", \"two\", \"three\"])  # three climate ensemble members"
   ]
  },
  {
   "cell_type": "markdown",
   "id": "5",
   "metadata": {},
   "source": [
    "In this example the `species_configs_properties` are read in from an external file.\n",
    "\n",
    "`species_configs_properties` contains the list of species that you want to run with, how you want to run them, and the default (though modifiable) parameter values that you give them."
   ]
  },
  {
   "cell_type": "code",
   "execution_count": null,
   "id": "6",
   "metadata": {},
   "outputs": [],
   "source": [
    "species, properties = read_properties(\"data/importing-data/species_configs_properties.csv\")"
   ]
  },
  {
   "cell_type": "code",
   "execution_count": null,
   "id": "7",
   "metadata": {},
   "outputs": [],
   "source": [
    "species"
   ]
  },
  {
   "cell_type": "code",
   "execution_count": null,
   "id": "8",
   "metadata": {},
   "outputs": [],
   "source": [
    "f.define_species(species, properties)"
   ]
  },
  {
   "cell_type": "code",
   "execution_count": null,
   "id": "9",
   "metadata": {},
   "outputs": [],
   "source": [
    "f.allocate()"
   ]
  },
  {
   "cell_type": "markdown",
   "id": "10",
   "metadata": {},
   "source": [
    "## Read in our driving data\n",
    "\n",
    "First, we'll inspect it using `pandas`.\n",
    "\n",
    "Note that not every `specie` defined is included here, since some are calculated from other species (CO2, aerosol-radiation and aerosol-cloud forcing).\n",
    "\n",
    "Remember also that emissions are on `timepoints` - so will be calculated on half years.\n",
    "\n",
    "The `fill_from_csv` function will do our interpolation for us, so it's fine to provide 10-year data for an annual problem."
   ]
  },
  {
   "cell_type": "code",
   "execution_count": null,
   "id": "11",
   "metadata": {},
   "outputs": [],
   "source": [
    "pd.read_csv('data/importing-data/demo-emissions.csv')"
   ]
  },
  {
   "cell_type": "code",
   "execution_count": null,
   "id": "12",
   "metadata": {},
   "outputs": [],
   "source": [
    "pd.read_csv('data/importing-data/demo-concentration.csv')"
   ]
  },
  {
   "cell_type": "code",
   "execution_count": null,
   "id": "13",
   "metadata": {},
   "outputs": [],
   "source": [
    "pd.read_csv('data/importing-data/demo-forcing.csv')"
   ]
  },
  {
   "cell_type": "code",
   "execution_count": null,
   "id": "14",
   "metadata": {},
   "outputs": [],
   "source": [
    "f.fill_from_csv(\n",
    "    emissions_file='data/importing-data/demo-emissions.csv',\n",
    "    concentration_file='data/importing-data/demo-concentration.csv',\n",
    "    forcing_file='data/importing-data/demo-forcing.csv'\n",
    ")"
   ]
  },
  {
   "cell_type": "markdown",
   "id": "15",
   "metadata": {},
   "source": [
    "## Now we fill in the climate and species configs\n",
    "\n",
    "First take the defaults from the same file as the species/properties definition:"
   ]
  },
  {
   "cell_type": "code",
   "execution_count": null,
   "id": "16",
   "metadata": {},
   "outputs": [],
   "source": [
    "f.fill_species_configs('data/importing-data/species_configs_properties.csv')"
   ]
  },
  {
   "cell_type": "markdown",
   "id": "17",
   "metadata": {},
   "source": [
    "Then, for each config set (climate ensemble member) we want to **override** to the default values in the `species_config_default` file. Note that no climate configs are given by default because we want users to think about what they are doing."
   ]
  },
  {
   "cell_type": "code",
   "execution_count": null,
   "id": "18",
   "metadata": {},
   "outputs": [],
   "source": [
    "df_configs = pd.read_csv('data/importing-data/calibrated_constrained_parameters.csv', index_col=0)"
   ]
  },
  {
   "cell_type": "code",
   "execution_count": null,
   "id": "19",
   "metadata": {},
   "outputs": [],
   "source": [
    "energy_balance_parameters = [\n",
    "    'gamma_autocorrelation',\n",
    "    'ocean_heat_capacity',\n",
    "    'ocean_heat_transfer',\n",
    "    'deep_ocean_efficacy',\n",
    "    'sigma_eta',\n",
    "    'sigma_xi',\n",
    "    'forcing_4co2',\n",
    "    'seed',\n",
    "    'use_seed',\n",
    "    'stochastic_run'\n",
    "]"
   ]
  },
  {
   "cell_type": "code",
   "execution_count": null,
   "id": "20",
   "metadata": {},
   "outputs": [],
   "source": [
    "f.climate_configs"
   ]
  },
  {
   "cell_type": "code",
   "execution_count": null,
   "id": "21",
   "metadata": {},
   "outputs": [],
   "source": [
    "for config in f.configs:\n",
    "    for col in df_configs.columns:\n",
    "        if len(col.split(\"[\")) > 1:\n",
    "            param_name = col.split(\"[\")[0]\n",
    "            param_index = (col.split(\"[\")[1][:-1])\n",
    "        else:\n",
    "            param_name = col\n",
    "            param_index = None\n",
    "\n",
    "        if param_name in energy_balance_parameters:\n",
    "            if param_index is not None:\n",
    "                fill(f.climate_configs[param_name], df_configs.loc[config, col], layer=int(param_index), config=config)\n",
    "            else:\n",
    "                fill(f.climate_configs[param_name], df_configs.loc[config, col], config=config)\n",
    "\n",
    "        else:\n",
    "            if param_index is not None:\n",
    "                fill(f.species_configs[param_name], df_configs.loc[config, col], specie=param_index, config=config)\n",
    "            else:\n",
    "                fill(f.species_configs[param_name], df_configs.loc[config, col], config=config)"
   ]
  },
  {
   "cell_type": "code",
   "execution_count": null,
   "id": "22",
   "metadata": {},
   "outputs": [],
   "source": [
    "fill(f.climate_configs['stochastic_run'], True)"
   ]
  },
  {
   "cell_type": "markdown",
   "id": "23",
   "metadata": {},
   "source": [
    "## Initial conditions\n",
    "\n",
    "What do we assume at the first time bound (2000.0)?"
   ]
  },
  {
   "cell_type": "code",
   "execution_count": null,
   "id": "24",
   "metadata": {},
   "outputs": [],
   "source": [
    "initialise(f.concentration, 278, specie='CO2')\n",
    "initialise(f.forcing, 0)\n",
    "initialise(f.temperature, 0)\n",
    "initialise(f.cumulative_emissions, 0)\n",
    "initialise(f.airborne_emissions, 0)\n",
    "initialise(f.ocean_heat_content_change, 0)"
   ]
  },
  {
   "cell_type": "markdown",
   "id": "25",
   "metadata": {},
   "source": [
    "## Run"
   ]
  },
  {
   "cell_type": "code",
   "execution_count": null,
   "id": "26",
   "metadata": {},
   "outputs": [],
   "source": [
    "f.run()"
   ]
  },
  {
   "cell_type": "markdown",
   "id": "27",
   "metadata": {},
   "source": [
    "## Analyse results"
   ]
  },
  {
   "cell_type": "code",
   "execution_count": null,
   "id": "28",
   "metadata": {},
   "outputs": [],
   "source": [
    "f.temperature"
   ]
  },
  {
   "cell_type": "code",
   "execution_count": null,
   "id": "29",
   "metadata": {},
   "outputs": [],
   "source": [
    "for config in f.configs:\n",
    "    for scenario in f.scenarios:\n",
    "        pl.plot(f.timebounds, f.temperature.sel(layer=0, scenario=scenario, config=config), label=f\"{scenario}:{config}\");\n",
    "pl.legend()"
   ]
  },
  {
   "cell_type": "code",
   "execution_count": null,
   "id": "30",
   "metadata": {},
   "outputs": [],
   "source": [
    "for config in f.configs:\n",
    "    for scenario in f.scenarios:\n",
    "        pl.plot(f.timebounds, f.concentration.sel(scenario=scenario, config=config, specie=\"CO2\"), label=f\"{scenario}:{config}\");\n",
    "pl.legend()"
   ]
  },
  {
   "cell_type": "code",
   "execution_count": null,
   "id": "31",
   "metadata": {},
   "outputs": [],
   "source": [
    "for config in f.configs:\n",
    "    for scenario in f.scenarios:\n",
    "        pl.plot(f.timebounds, f.forcing_sum.sel(scenario=scenario, config=config), label=f\"{scenario}:{config}\");\n",
    "pl.legend()"
   ]
  },
  {
   "cell_type": "code",
   "execution_count": null,
   "id": "32",
   "metadata": {},
   "outputs": [],
   "source": []
  }
 ],
 "metadata": {
  "kernelspec": {
   "display_name": "Python 3 (ipykernel)",
   "language": "python",
   "name": "python3"
  },
  "language_info": {
   "codemirror_mode": {
    "name": "ipython",
    "version": 3
   },
   "file_extension": ".py",
   "mimetype": "text/x-python",
   "name": "python",
   "nbconvert_exporter": "python",
   "pygments_lexer": "ipython3",
   "version": "3.11.5"
  }
 },
 "nbformat": 4,
 "nbformat_minor": 5
}
