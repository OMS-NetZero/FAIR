{
 "cells": [
  {
   "cell_type": "markdown",
   "id": "4bb8c50a-c479-4a54-9af9-a098cba500bd",
   "metadata": {},
   "source": [
    "# Importing emissions files\n",
    "\n",
    "This notebook example shows how to run FaIR with your own emissions scenarios. This feature was introduced in fair v2.2.0.\n",
    "\n",
    "The data is in the `examples/data/importing-data` directory of the fair repository.\n",
    "\n",
    "The structure of this example closely follows the `basic-run-example`."
   ]
  },
  {
   "cell_type": "code",
   "execution_count": null,
   "id": "d6f3ca64-c0e2-4ee2-ba9d-ceb681408712",
   "metadata": {},
   "outputs": [],
   "source": [
    "import pandas as pd\n",
    "from fair import FAIR\n",
    "from fair.io import read_properties\n",
    "from fair.interface import fill, initialise\n",
    "\n",
    "import matplotlib.pyplot as pl"
   ]
  },
  {
   "cell_type": "code",
   "execution_count": null,
   "id": "89c369c0-71c8-48b3-9618-dcd6b7eeeb36",
   "metadata": {},
   "outputs": [],
   "source": [
    "f = FAIR()"
   ]
  },
  {
   "cell_type": "markdown",
   "id": "95a1221e-caad-4dbd-a01a-f69af033608a",
   "metadata": {},
   "source": [
    "## Set up the run"
   ]
  },
  {
   "cell_type": "code",
   "execution_count": null,
   "id": "d5a741eb-c079-4c53-b1a4-5723b1f8855a",
   "metadata": {},
   "outputs": [],
   "source": [
    "f.define_time(2000, 2050, 1)  # annual timestep, running from 2000 to 2050\n",
    "f.define_scenarios([\"renewable\", \"fossil\"])  # define two emissions scenarios\n",
    "f.define_configs([\"one\", \"two\", \"three\"])  # three climate ensemble members"
   ]
  },
  {
   "cell_type": "markdown",
   "id": "48b17833-61d0-4aa0-bfd9-3ba06505bc83",
   "metadata": {},
   "source": [
    "In this example the `species_configs_properties` are read in from an external file.\n",
    "\n",
    "`species_configs_properties` contains the list of species that you want to run with, how you want to run them, and the default (though modifiable) parameter values that you give them."
   ]
  },
  {
   "cell_type": "code",
   "execution_count": null,
   "id": "1a3cbd3e-d131-4a04-b7ee-3d965d3fcea8",
   "metadata": {},
   "outputs": [],
   "source": [
    "species, properties = read_properties(\"data/importing-data/species_configs_properties.csv\")"
   ]
  },
  {
   "cell_type": "code",
   "execution_count": null,
   "id": "cd821f7d-e058-43f0-a5d6-a59eea693cec",
   "metadata": {},
   "outputs": [],
   "source": [
    "species"
   ]
  },
  {
   "cell_type": "code",
   "execution_count": null,
   "id": "1f4425a7-1923-416c-ab86-551bffb5a724",
   "metadata": {},
   "outputs": [],
   "source": [
    "f.define_species(species, properties)"
   ]
  },
  {
   "cell_type": "code",
   "execution_count": null,
   "id": "3088ae0c-deef-4f58-bbef-286fa666261c",
   "metadata": {},
   "outputs": [],
   "source": [
    "f.allocate()"
   ]
  },
  {
   "cell_type": "markdown",
   "id": "729ebf27-7a9f-4ccd-a14b-f826e9d0ff18",
   "metadata": {},
   "source": [
    "## Read in our driving data\n",
    "\n",
    "First, we'll inspect it using `pandas`.\n",
    "\n",
    "Note that not every `specie` defined is included here, since some are calculated from other species (CO2, aerosol-radiation and aerosol-cloud forcing).\n",
    "\n",
    "Remember also that emissions are on `timepoints` - so will be calculated on half years.\n",
    "\n",
    "The `fill_from_csv` function will do our interpolation for us, so it's fine to provide 10-year data for an annual problem."
   ]
  },
  {
   "cell_type": "code",
   "execution_count": null,
   "id": "a4c9859d-0c78-4603-84a2-936c1c82cce9",
   "metadata": {},
   "outputs": [],
   "source": [
    "pd.read_csv('data/importing-data/demo-emissions.csv')"
   ]
  },
  {
   "cell_type": "code",
   "execution_count": null,
   "id": "bf613f6d-253d-4788-a3d9-ada9b8d071e6",
   "metadata": {},
   "outputs": [],
   "source": [
    "pd.read_csv('data/importing-data/demo-concentration.csv')"
   ]
  },
  {
   "cell_type": "code",
   "execution_count": null,
   "id": "02dbe041-5599-4a1c-a3c4-4598c0d0fd2d",
   "metadata": {},
   "outputs": [],
   "source": [
    "pd.read_csv('data/importing-data/demo-forcing.csv')"
   ]
  },
  {
   "cell_type": "code",
   "execution_count": null,
   "id": "717160be-cc7c-4484-8bfd-6ee28fad76a2",
   "metadata": {},
   "outputs": [],
   "source": [
    "f.fill_from_csv(\n",
    "    emissions_file='data/importing-data/demo-emissions.csv',\n",
    "    concentration_file='data/importing-data/demo-concentration.csv',\n",
    "    forcing_file='data/importing-data/demo-forcing.csv'\n",
    ")"
   ]
  },
  {
   "cell_type": "markdown",
   "id": "eeb3bd85-7ee5-4b54-a4fd-346de9fe2727",
   "metadata": {},
   "source": [
    "## Now we fill in the climate and species configs\n",
    "\n",
    "First take the defaults from the same file as the species/properties definition:"
   ]
  },
  {
   "cell_type": "code",
   "execution_count": null,
   "id": "a9d08065-58aa-4412-b628-c90f36dc1794",
   "metadata": {},
   "outputs": [],
   "source": [
    "f.fill_species_configs('data/importing-data/species_configs_properties.csv')"
   ]
  },
  {
   "cell_type": "markdown",
   "id": "1f90b2cb-1a75-4c9b-bd3e-b972a3f7d432",
   "metadata": {},
   "source": [
    "Then, for each config set (climate ensemble member) we want to **override** to the default values in the `species_config_default` file. Note that no climate configs are given by default because we want users to think about what they are doing."
   ]
  },
  {
   "cell_type": "code",
   "execution_count": null,
   "id": "a4871546-2e33-42c3-ab56-cbd73e4122b2",
   "metadata": {},
   "outputs": [],
   "source": [
    "df_configs = pd.read_csv('data/importing-data/calibrated_constrained_parameters.csv', index_col=0)"
   ]
  },
  {
   "cell_type": "code",
   "execution_count": null,
   "id": "c1c3d3c2-2132-4c15-ac9c-b7588f78a120",
   "metadata": {},
   "outputs": [],
   "source": [
    "energy_balance_parameters = [\n",
    "    'gamma_autocorrelation',\n",
    "    'ocean_heat_capacity',\n",
    "    'ocean_heat_transfer',\n",
    "    'deep_ocean_efficacy',\n",
    "    'sigma_eta',\n",
    "    'sigma_xi',\n",
    "    'forcing_4co2',\n",
    "    'seed',\n",
    "    'use_seed',\n",
    "    'stochastic_run'\n",
    "]"
   ]
  },
  {
   "cell_type": "code",
   "execution_count": null,
   "id": "f95f326b-2f1f-49a6-b1af-37a8f7fc6e16",
   "metadata": {},
   "outputs": [],
   "source": [
    "f.climate_configs"
   ]
  },
  {
   "cell_type": "code",
   "execution_count": null,
   "id": "647d6424-89a7-44be-a6ba-df64902b969c",
   "metadata": {},
   "outputs": [],
   "source": [
    "for config in f.configs:\n",
    "    for col in df_configs.columns:\n",
    "        if len(col.split(\"[\")) > 1:\n",
    "            param_name = col.split(\"[\")[0]\n",
    "            param_index = (col.split(\"[\")[1][:-1])\n",
    "        else:\n",
    "            param_name = col\n",
    "            param_index = None\n",
    "\n",
    "        if param_name in energy_balance_parameters:\n",
    "            if param_index is not None:\n",
    "                fill(f.climate_configs[param_name], df_configs.loc[config, col], layer=int(param_index), config=config)\n",
    "            else:\n",
    "                fill(f.climate_configs[param_name], df_configs.loc[config, col], config=config)\n",
    "\n",
    "        else:\n",
    "            if param_index is not None:\n",
    "                fill(f.species_configs[param_name], df_configs.loc[config, col], specie=param_index, config=config)\n",
    "            else:\n",
    "                fill(f.species_configs[param_name], df_configs.loc[config, col], config=config)"
   ]
  },
  {
   "cell_type": "code",
   "execution_count": null,
   "id": "adf0b9ab-398f-471a-a85a-b777f8090365",
   "metadata": {},
   "outputs": [],
   "source": [
    "fill(f.climate_configs['stochastic_run'], True)"
   ]
  },
  {
   "cell_type": "markdown",
   "id": "fde9a519-7c1c-4f55-8213-394a9980fc0b",
   "metadata": {},
   "source": [
    "## Initial conditions\n",
    "\n",
    "What do we assume at the first time bound (2000.0)?"
   ]
  },
  {
   "cell_type": "code",
   "execution_count": null,
   "id": "5811c26b-2872-46fb-9fe9-1b985b108ba7",
   "metadata": {},
   "outputs": [],
   "source": [
    "initialise(f.concentration, 278, specie='CO2')\n",
    "initialise(f.forcing, 0)\n",
    "initialise(f.temperature, 0)\n",
    "initialise(f.cumulative_emissions, 0)\n",
    "initialise(f.airborne_emissions, 0)\n",
    "initialise(f.ocean_heat_content_change, 0)"
   ]
  },
  {
   "cell_type": "markdown",
   "id": "d87dc1f5-88c5-4bd9-a9a1-085bec5ea78f",
   "metadata": {},
   "source": [
    "## Run"
   ]
  },
  {
   "cell_type": "code",
   "execution_count": null,
   "id": "fa842675-fbf0-46b2-afeb-f8f0fbe3e9eb",
   "metadata": {},
   "outputs": [],
   "source": [
    "f.run()"
   ]
  },
  {
   "cell_type": "markdown",
   "id": "8c0b19da-aa41-4c49-b3f7-1cb44ff5f261",
   "metadata": {},
   "source": [
    "## Analyse results"
   ]
  },
  {
   "cell_type": "code",
   "execution_count": null,
   "id": "15041ddf-7069-4ece-a37c-0c91e99e4262",
   "metadata": {},
   "outputs": [],
   "source": [
    "f.temperature"
   ]
  },
  {
   "cell_type": "code",
   "execution_count": null,
   "id": "c715654b-026a-4884-9b0b-77058c14ee35",
   "metadata": {},
   "outputs": [],
   "source": [
    "for config in f.configs:\n",
    "    for scenario in f.scenarios:\n",
    "        pl.plot(f.timebounds, f.temperature.sel(layer=0, scenario=scenario, config=config), label=f\"{scenario}:{config}\");\n",
    "pl.legend()"
   ]
  },
  {
   "cell_type": "code",
   "execution_count": null,
   "id": "2d4d2132-d114-4a90-aa27-d2700cabf490",
   "metadata": {},
   "outputs": [],
   "source": [
    "for config in f.configs:\n",
    "    for scenario in f.scenarios:\n",
    "        pl.plot(f.timebounds, f.concentration.sel(scenario=scenario, config=config, specie=\"CO2\"), label=f\"{scenario}:{config}\");\n",
    "pl.legend()"
   ]
  },
  {
   "cell_type": "code",
   "execution_count": null,
   "id": "99a66868-1773-4532-983e-8ccc5b0f7fbf",
   "metadata": {},
   "outputs": [],
   "source": [
    "for config in f.configs:\n",
    "    for scenario in f.scenarios:\n",
    "        pl.plot(f.timebounds, f.forcing_sum.sel(scenario=scenario, config=config), label=f\"{scenario}:{config}\");\n",
    "pl.legend()"
   ]
  },
  {
   "cell_type": "code",
   "execution_count": null,
   "id": "f8563a12-2c13-4332-b264-52451c8b033e",
   "metadata": {},
   "outputs": [],
   "source": []
  }
 ],
 "metadata": {
  "kernelspec": {
   "display_name": "Python 3 (ipykernel)",
   "language": "python",
   "name": "python3"
  },
  "language_info": {
   "codemirror_mode": {
    "name": "ipython",
    "version": 3
   },
   "file_extension": ".py",
   "mimetype": "text/x-python",
   "name": "python",
   "nbconvert_exporter": "python",
   "pygments_lexer": "ipython3",
   "version": "3.11.5"
  }
 },
 "nbformat": 4,
 "nbformat_minor": 5
}
