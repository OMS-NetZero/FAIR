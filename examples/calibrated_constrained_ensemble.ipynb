{
 "cells": [
  {
   "cell_type": "markdown",
   "id": "cd60e964-4bba-41fc-abc3-ae2198a93ccc",
   "metadata": {},
   "source": [
    "# A calibrated, constrained ensemble\n",
    "\n",
    "FaIR, like every other simple or complex climate model, is naive. It will produce projections for whatever emissions/concentrations/forcing scenario you ask it to produce projections for. It is up to the user to determine whether these projections are useful and sensible.\n",
    "\n",
    "We are [developing a set of parameter calibrations](https://github.com/chrisroadmap/fair-calibrate) that reproduce both observed climate change since pre-industrial and assessed climate metrics such as the equilibrium climate sensitivity from the IPCC Sixth Assessement Report.\n",
    "\n",
    "The calibrations will be continually updated, as new data for surface temperature, ocean heat content, external forcing and emissions become available. For now, we have an IPCC AR6 WG1 version (where observational constraints are generally up to somewhere in the 2014 to 2020 period), and assessments of emergent climate metrics are from the IPCC AR6 WG1 Chapter 7. We use emissions data (historical + SSP) from the Reduced Complexity Model Intercomparison Project which was compiled for IPCC AR6 WG3 Chapter 3. We also have calibration versions for replacing historical CO2 emissions by Global Carbon Project estimates.\n",
    "\n",
    "A two-step\n",
    "\n",
    "- equilibrium climate sensitivity (ECS), very likely range 2-5C, best estimate 3C\n",
    "- transient climate response (TCR), very likely range 1.2-2.4C, best estimate 1.8C\n",
    "- global mean surface temperature change 1850-1900 to 1995-2014, very likely range\n",
    "\n",
    "[![DOI](https://zenodo.org/badge/DOI/10.5281/zenodo.7694879.svg)](https://doi.org/10.5281/zenodo.7694879)"
   ]
  },
  {
   "cell_type": "code",
   "execution_count": null,
   "id": "c3a38578-9f38-48f2-b961-7fb9c8f266b2",
   "metadata": {},
   "outputs": [],
   "source": []
  }
 ],
 "metadata": {
  "kernelspec": {
   "display_name": "Python 3 (ipykernel)",
   "language": "python",
   "name": "python3"
  },
  "language_info": {
   "codemirror_mode": {
    "name": "ipython",
    "version": 3
   },
   "file_extension": ".py",
   "mimetype": "text/x-python",
   "name": "python",
   "nbconvert_exporter": "python",
   "pygments_lexer": "ipython3",
   "version": "3.11.4"
  }
 },
 "nbformat": 4,
 "nbformat_minor": 5
}
