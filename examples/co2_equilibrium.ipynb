{
 "cells": [
  {
   "cell_type": "markdown",
   "id": "0df0c32b",
   "metadata": {},
   "source": [
    "# CO2 equilibrium runs\n",
    "\n",
    "Recreate abrupt 4xCO2 runs from all 66 CMIP6 model calibrations and create Gregory plots.\n",
    "\n",
    "This demonstrates the flexibility of FaIR in that it can be applied to mimic specific ESM experiments."
   ]
  },
  {
   "cell_type": "code",
   "execution_count": null,
   "id": "610de62c",
   "metadata": {},
   "outputs": [],
   "source": [
    "import matplotlib.pyplot as pl\n",
    "import numpy as np\n",
    "import pandas as pd\n",
    "\n",
    "from fair import FAIR\n",
    "from fair.interface import fill, initialise"
   ]
  },
  {
   "cell_type": "markdown",
   "id": "59ee0484",
   "metadata": {},
   "source": [
    "## 1. Create FaIR instance"
   ]
  },
  {
   "cell_type": "code",
   "execution_count": null,
   "id": "6d46485b",
   "metadata": {},
   "outputs": [],
   "source": [
    "f = FAIR()"
   ]
  },
  {
   "cell_type": "markdown",
   "id": "2681e586",
   "metadata": {},
   "source": [
    "## 2. Define time horizon\n",
    "\n",
    "I want 1000 years, even though 4xCO2 is only 150 year experiment."
   ]
  },
  {
   "cell_type": "code",
   "execution_count": null,
   "id": "7d1a4303",
   "metadata": {},
   "outputs": [],
   "source": [
    "f.define_time(0, 1000, 1)\n",
    "f.timebounds"
   ]
  },
  {
   "cell_type": "markdown",
   "id": "cf8cb32b",
   "metadata": {},
   "source": [
    "## 3. Define scenarios\n",
    "\n",
    "This is easy: there's only one"
   ]
  },
  {
   "cell_type": "code",
   "execution_count": null,
   "id": "53681ff2",
   "metadata": {},
   "outputs": [],
   "source": [
    "f.define_scenarios(['abrupt-4xCO2'])"
   ]
  },
  {
   "cell_type": "markdown",
   "id": "3ff5dc42",
   "metadata": {},
   "source": [
    "## 4. Define configs"
   ]
  },
  {
   "cell_type": "code",
   "execution_count": null,
   "id": "22f7fe9d",
   "metadata": {},
   "outputs": [],
   "source": [
    "df = pd.read_csv(\"../tests/test_data/4xCO2_cummins_ebm3.csv\")\n",
    "models = df['model'].unique()\n",
    "configs = []\n",
    "\n",
    "for imodel, model in enumerate(models):\n",
    "    for run in df.loc[df['model']==model, 'run']:\n",
    "        configs.append(f\"{model}_{run}\")\n",
    "f.define_configs(configs)"
   ]
  },
  {
   "cell_type": "markdown",
   "id": "ff20d334",
   "metadata": {},
   "source": [
    "## 5. Define species\n",
    "\n",
    "Note we set the `input_mode` to forcing, as we are running with prescribed forcing from the 4xCO2 Gregory."
   ]
  },
  {
   "cell_type": "code",
   "execution_count": null,
   "id": "9c79efce",
   "metadata": {},
   "outputs": [],
   "source": [
    "species = ['CO2']"
   ]
  },
  {
   "cell_type": "code",
   "execution_count": null,
   "id": "fc1a009e",
   "metadata": {},
   "outputs": [],
   "source": [
    "properties = {\n",
    "    'CO2': {\n",
    "        'type': 'co2',\n",
    "        'input_mode': 'forcing',\n",
    "        'greenhouse_gas': True,\n",
    "        'aerosol_chemistry_from_emissions': False,\n",
    "        'aerosol_chemistry_from_concentration': False,\n",
    "    },\n",
    "}"
   ]
  },
  {
   "cell_type": "code",
   "execution_count": null,
   "id": "13862173",
   "metadata": {},
   "outputs": [],
   "source": [
    "f.define_species(species, properties)"
   ]
  },
  {
   "cell_type": "markdown",
   "id": "1486006a",
   "metadata": {},
   "source": [
    "## 6. Modifying run options\n",
    "\n",
    "Not applicable"
   ]
  },
  {
   "cell_type": "markdown",
   "id": "d5f7f04c",
   "metadata": {},
   "source": [
    "## 7. Create input and output data"
   ]
  },
  {
   "cell_type": "code",
   "execution_count": null,
   "id": "d8b4137e",
   "metadata": {},
   "outputs": [],
   "source": [
    "f.allocate()"
   ]
  },
  {
   "cell_type": "markdown",
   "id": "06038e28",
   "metadata": {},
   "source": [
    "## 8. fill in everything"
   ]
  },
  {
   "cell_type": "code",
   "execution_count": null,
   "id": "024d3afe",
   "metadata": {},
   "outputs": [],
   "source": [
    "initialise(f.temperature, 0)"
   ]
  },
  {
   "cell_type": "code",
   "execution_count": null,
   "id": "916c8625",
   "metadata": {},
   "outputs": [],
   "source": [
    "df = pd.read_csv(\"../tests/test_data/4xCO2_cummins_ebm3.csv\")\n",
    "models = df['model'].unique()\n",
    "\n",
    "seed = 0\n",
    "\n",
    "for config in configs:\n",
    "    model, run = config.split('_')\n",
    "    condition = (df['model']==model) & (df['run']==run)\n",
    "    fill(f.climate_configs['ocean_heat_capacity'], df.loc[condition, 'C1':'C3'].values.squeeze(), config=config)\n",
    "    fill(f.climate_configs['ocean_heat_transfer'], df.loc[condition, 'kappa1':'kappa3'].values.squeeze(), config=config)\n",
    "    fill(f.climate_configs['deep_ocean_efficacy'], df.loc[condition, 'epsilon'].values[0], config=config)\n",
    "    fill(f.climate_configs['gamma_autocorrelation'], df.loc[condition, 'gamma'].values[0], config=config)\n",
    "    fill(f.climate_configs['sigma_eta'], df.loc[condition, 'sigma_eta'].values[0], config=config)\n",
    "    fill(f.climate_configs['sigma_xi'], df.loc[condition, 'sigma_xi'].values[0], config=config)\n",
    "    fill(f.climate_configs['stochastic_run'], True, config=config)\n",
    "    fill(f.climate_configs['use_seed'], True, config=config)\n",
    "    fill(f.climate_configs['seed'], seed, config=config)\n",
    "    \n",
    "    # We want to fill in a constant 4xCO2 forcing (for each model) across the run.\n",
    "    fill(f.forcing, df.loc[condition, 'F_4xCO2'].values[0], config=config, specie='CO2')\n",
    "    \n",
    "    seed = seed + 10101"
   ]
  },
  {
   "cell_type": "code",
   "execution_count": null,
   "id": "9ab9c444",
   "metadata": {},
   "outputs": [],
   "source": [
    "df"
   ]
  },
  {
   "cell_type": "code",
   "execution_count": null,
   "id": "183024d8",
   "metadata": {},
   "outputs": [],
   "source": [
    "f.fill_species_configs()"
   ]
  },
  {
   "cell_type": "code",
   "execution_count": null,
   "id": "7cabf21e",
   "metadata": {},
   "outputs": [],
   "source": [
    "fill(f.species_configs['tropospheric_adjustment'], 0, specie='CO2')"
   ]
  },
  {
   "cell_type": "markdown",
   "id": "31345955",
   "metadata": {},
   "source": [
    "## 9. run FaIR"
   ]
  },
  {
   "cell_type": "code",
   "execution_count": null,
   "id": "a6306c0c",
   "metadata": {},
   "outputs": [],
   "source": [
    "f.run()"
   ]
  },
  {
   "cell_type": "markdown",
   "id": "3f0afe4b",
   "metadata": {},
   "source": [
    "## 10. Show results\n",
    "\n",
    "Although we can get convincing internal variability for T and N individually, it appears that the stochastic variability is correlated."
   ]
  },
  {
   "cell_type": "code",
   "execution_count": null,
   "id": "781f4c37",
   "metadata": {},
   "outputs": [],
   "source": [
    "fig, ax = pl.subplots()\n",
    "ax.plot(f.timebounds, f.temperature.loc[dict(layer=0, scenario='abrupt-4xCO2')]);\n",
    "ax.set_xlim(0, 1000)\n",
    "ax.set_ylim(0, 13)\n",
    "ax.set_ylabel('Global mean warming above pre-industrial, °C')\n",
    "ax.set_xlabel('Year')\n",
    "ax.set_title('CMIP6 abrupt-4xCO$_2$ emulations, FaIR v2.1')\n",
    "fig.tight_layout()"
   ]
  },
  {
   "cell_type": "code",
   "execution_count": null,
   "id": "7ea5285d",
   "metadata": {},
   "outputs": [],
   "source": [
    "pl.plot(f.timebounds, f.toa_imbalance.loc[dict(scenario='abrupt-4xCO2')]);"
   ]
  },
  {
   "cell_type": "code",
   "execution_count": null,
   "id": "c02b5a2c",
   "metadata": {},
   "outputs": [],
   "source": [
    "pl.plot(f.timebounds, f.forcing_sum.loc[dict(scenario='abrupt-4xCO2')]);"
   ]
  },
  {
   "cell_type": "code",
   "execution_count": null,
   "id": "1de97658",
   "metadata": {},
   "outputs": [],
   "source": [
    "pl.plot(f.timebounds[800:], f.toa_imbalance.loc[dict(scenario='abrupt-4xCO2')][800:,...])\n",
    "pl.axhline(0, color='k')"
   ]
  },
  {
   "cell_type": "code",
   "execution_count": null,
   "id": "b6a8a4fc",
   "metadata": {},
   "outputs": [],
   "source": [
    "fig, ax = pl.subplots(11, 6, figsize=(16, 30))\n",
    "\n",
    "for i, config in enumerate(configs):\n",
    "    ax[i//6,i%6].scatter(f.temperature.loc[dict(layer=0, scenario='abrupt-4xCO2', config=config)], f.toa_imbalance.loc[dict(scenario='abrupt-4xCO2', config=config)])\n",
    "    ax[i//6,i%6].set_xlim(0,13)\n",
    "    ax[i//6,i%6].set_ylim(-1, 10)\n",
    "    ax[i//6,i%6].axhline(0, color='k')\n",
    "    ax[i//6,i%6].set_title(config, fontsize=6)"
   ]
  },
  {
   "cell_type": "code",
   "execution_count": null,
   "id": "60c10bb3",
   "metadata": {},
   "outputs": [],
   "source": []
  }
 ],
 "metadata": {
  "kernelspec": {
   "display_name": "Python 3 (ipykernel)",
   "language": "python",
   "name": "python3"
  },
  "language_info": {
   "codemirror_mode": {
    "name": "ipython",
    "version": 3
   },
   "file_extension": ".py",
   "mimetype": "text/x-python",
   "name": "python",
   "nbconvert_exporter": "python",
   "pygments_lexer": "ipython3",
   "version": "3.9.15"
  }
 },
 "nbformat": 4,
 "nbformat_minor": 5
}
